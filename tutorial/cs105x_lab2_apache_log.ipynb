{
 "cells": [
  {
   "cell_type": "markdown",
   "metadata": {},
   "source": [
    "<a rel=\"license\" href=\"http://creativecommons.org/licenses/by-nc-nd/4.0/\"><img alt=\"Creative Commons License\" style=\"border-width:0\" src=\"https://i.creativecommons.org/l/by-nc-nd/4.0/88x31.png\" align=\"left\" /></a><br><br/>This work is licensed under a <a rel=\"license\" href=\"http://creativecommons.org/licenses/by-nc-nd/4.0/\">Creative Commons Attribution-NonCommercial-NoDerivatives 4.0 International License</a>."
   ]
  },
  {
   "cell_type": "markdown",
   "metadata": {},
   "source": [
    "# ![Spark Logo](http://spark-mooc.github.io/web-assets/images/ta_Spark-logo-small.png) + ![Python Logo](http://spark-mooc.github.io/web-assets/images/python-logo-master-v3-TM-flattened_small.png)"
   ]
  },
  {
   "cell_type": "markdown",
   "metadata": {},
   "source": [
    "# Web Server Log Analysis with Apache Spark\n",
    "This lab will demonstrate how easy it is to perform web server log analysis with Apache Spark.\n",
    "\n",
    "Server log analysis is an ideal use case for Spark. It's a very large, common data source and contains a rich set of information. Spark allows you to store your logs in files on disk cheaply, while still providing a quick and simple way to perform data analysis on them. This homework will show you how to use Apache Spark on real-world text-based production logs and fully harness the power of that data. Log data comes from many sources, such as web, file, and compute servers, application logs, user-generated content, and can be used for monitoring servers, improving business and customer intelligence, building recommendation systems, fraud detection, and much more."
   ]
  },
  {
   "cell_type": "markdown",
   "metadata": {},
   "source": [
    "## How to complete this lab\n",
    "This lab is broken up into sections with bite-sized examples for demonstrating Spark functionality for log processing.\n",
    "\n",
    "It consists of 5 parts:\n",
    "* Part 1: Introduction and Imports\n",
    "* Part 2: Exploratory Data Analysis\n",
    "* Part 3: Analysis Walk-Through on the Web Server Log File\n",
    "* Part 4: Analyzing Web Server Log File\n",
    "* Part 5: Exploring 404 Response Codes"
   ]
  },
  {
   "cell_type": "markdown",
   "metadata": {},
   "source": [
    "## Part 1: Introduction and Imports\n",
    "### A note about DataFrame column references\n",
    "In Python, it's possible to access a DataFrame's columns either by attribute (`df.age`) or by indexing (`df['age']`). Referring to a column by attribute (`df.age`) is very Pandas-like, and it's highly convenient, especially when you're doing interactive data exploration. But it can fail, for reasons that aren't obvious. For example:"
   ]
  },
  {
   "cell_type": "code",
   "execution_count": 1,
   "metadata": {},
   "outputs": [
    {
     "data": {
      "text/plain": [
       "pyspark.sql.context.SQLContext"
      ]
     },
     "execution_count": 1,
     "metadata": {},
     "output_type": "execute_result"
    }
   ],
   "source": [
    "from pyspark.sql import SQLContext\n",
    "from pyspark.context import SparkContext\n",
    "sc = SparkContext.getOrCreate()\n",
    "sqlContext = SQLContext(sc)\n",
    "# Display the type of the Spark sqlContext\n",
    "type(sqlContext)"
   ]
  },
  {
   "cell_type": "code",
   "execution_count": 2,
   "metadata": {
    "collapsed": true
   },
   "outputs": [],
   "source": [
    "throwaway_df = sqlContext.createDataFrame([('Anthony', 10), ('Julia', 20), ('Fred', 5)], ('name', 'count'))\n",
    "# throwaway_df.select(throwaway_df.count).show()"
   ]
  },
  {
   "cell_type": "markdown",
   "metadata": {},
   "source": [
    "To understand why that failed, you have to understand how the attribute-column syntax is implemented.\n",
    "\n",
    "When you type `throwaway_df.count`, Python looks for an existing attribute or method called `count` on the `throwaway_df` object. If it finds one, it uses it. Otherwise, it calls a special Python function (`__getattr__`), which defaults to throwing an exception. Spark has overridden `__getattr__` to look for a column on the DataFrame.\n",
    "\n",
    "**This means you can only use the attribute (dot) syntax to refer to a column if the DataFrame does not already have an attribute with the column's name.**\n",
    "\n",
    "In the above example, there's already a `count()` method on the `DataFrame` class, so `throwaway_df.count` does not refer to our \"count\" column; instead, it refers to the `count()` _method_.\n",
    "\n",
    "To avoid this problem, you can refer to the column using subscript notation: `throwaway_df['count']`. This syntax will _always_ work."
   ]
  },
  {
   "cell_type": "code",
   "execution_count": 3,
   "metadata": {},
   "outputs": [
    {
     "name": "stdout",
     "output_type": "stream",
     "text": [
      "+-----+\n",
      "|count|\n",
      "+-----+\n",
      "|   10|\n",
      "|   20|\n",
      "|    5|\n",
      "+-----+\n",
      "\n"
     ]
    }
   ],
   "source": [
    "throwaway_df.select(throwaway_df['count']).show()"
   ]
  },
  {
   "cell_type": "markdown",
   "metadata": {},
   "source": [
    "### (1a) Library imports\n",
    "We can import standard Python libraries ([modules](https://docs.python.org/2/tutorial/modules.html)) the usual way. An `import` statement will import the specified module. In this lab, we will provide any imports that are necessary.\n",
    "\n",
    "Let's import some of the libraries we'll need:\n",
    "* re: The regular expression library\n",
    "* datetime: Date and time functions"
   ]
  },
  {
   "cell_type": "code",
   "execution_count": 5,
   "metadata": {},
   "outputs": [
    {
     "name": "stdout",
     "output_type": "stream",
     "text": [
      "def\n",
      "This was last run on: 2017-07-19 10:29:08.205216\n"
     ]
    }
   ],
   "source": [
    "import re\n",
    "import datetime\n",
    "\n",
    "#Quick test of regular expression library\n",
    "m = re.search('(?<=abc)def', 'abcdef')\n",
    "print(m.group(0))\n",
    "\n",
    "#Quick test of the datetime library\n",
    "print('This was last run on: {0}'.format(datetime.datetime.now()))"
   ]
  },
  {
   "cell_type": "markdown",
   "metadata": {},
   "source": [
    "### (1b) Getting help\n",
    "Remember: There are some useful Python built-ins for getting help.\n",
    "\n",
    "You can use Python's `dir()` function to get a list of all the attributes (including methods) accessible through the `sqlContext` object."
   ]
  },
  {
   "cell_type": "code",
   "execution_count": 6,
   "metadata": {
    "scrolled": true
   },
   "outputs": [
    {
     "data": {
      "text/plain": [
       "['__class__',\n",
       " '__delattr__',\n",
       " '__dict__',\n",
       " '__doc__',\n",
       " '__format__',\n",
       " '__getattribute__',\n",
       " '__hash__',\n",
       " '__init__',\n",
       " '__module__',\n",
       " '__new__',\n",
       " '__reduce__',\n",
       " '__reduce_ex__',\n",
       " '__repr__',\n",
       " '__setattr__',\n",
       " '__sizeof__',\n",
       " '__str__',\n",
       " '__subclasshook__',\n",
       " '__weakref__',\n",
       " '_inferSchema',\n",
       " '_instantiatedContext',\n",
       " '_jsc',\n",
       " '_jsqlContext',\n",
       " '_jvm',\n",
       " '_sc',\n",
       " '_ssql_ctx',\n",
       " 'cacheTable',\n",
       " 'clearCache',\n",
       " 'createDataFrame',\n",
       " 'createExternalTable',\n",
       " 'dropTempTable',\n",
       " 'getConf',\n",
       " 'getOrCreate',\n",
       " 'newSession',\n",
       " 'range',\n",
       " 'read',\n",
       " 'readStream',\n",
       " 'registerDataFrameAsTable',\n",
       " 'registerFunction',\n",
       " 'setConf',\n",
       " 'sparkSession',\n",
       " 'sql',\n",
       " 'streams',\n",
       " 'table',\n",
       " 'tableNames',\n",
       " 'tables',\n",
       " 'udf',\n",
       " 'uncacheTable']"
      ]
     },
     "execution_count": 6,
     "metadata": {},
     "output_type": "execute_result"
    }
   ],
   "source": [
    "# List sqlContext's attributes\n",
    "dir(sqlContext)"
   ]
  },
  {
   "cell_type": "markdown",
   "metadata": {},
   "source": [
    "Alternatively, you can use Python's `help()` function to get an easier to read list of all the attributes, including examples, that the sqlContext object has."
   ]
  },
  {
   "cell_type": "code",
   "execution_count": 7,
   "metadata": {},
   "outputs": [
    {
     "name": "stdout",
     "output_type": "stream",
     "text": [
      "Help on SQLContext in module pyspark.sql.context object:\n",
      "\n",
      "class SQLContext(__builtin__.object)\n",
      " |  The entry point for working with structured data (rows and columns) in Spark, in Spark 1.x.\n",
      " |  \n",
      " |  As of Spark 2.0, this is replaced by :class:`SparkSession`. However, we are keeping the class\n",
      " |  here for backward compatibility.\n",
      " |  \n",
      " |  A SQLContext can be used create :class:`DataFrame`, register :class:`DataFrame` as\n",
      " |  tables, execute SQL over tables, cache tables, and read parquet files.\n",
      " |  \n",
      " |  :param sparkContext: The :class:`SparkContext` backing this SQLContext.\n",
      " |  :param sparkSession: The :class:`SparkSession` around which this SQLContext wraps.\n",
      " |  :param jsqlContext: An optional JVM Scala SQLContext. If set, we do not instantiate a new\n",
      " |      SQLContext in the JVM, instead we make all calls to this object.\n",
      " |  \n",
      " |  Methods defined here:\n",
      " |  \n",
      " |  __init__(self, sparkContext, sparkSession=None, jsqlContext=None)\n",
      " |      Creates a new SQLContext.\n",
      " |      \n",
      " |      >>> from datetime import datetime\n",
      " |      >>> sqlContext = SQLContext(sc)\n",
      " |      >>> allTypes = sc.parallelize([Row(i=1, s=\"string\", d=1.0, l=1,\n",
      " |      ...     b=True, list=[1, 2, 3], dict={\"s\": 0}, row=Row(a=1),\n",
      " |      ...     time=datetime(2014, 8, 1, 14, 1, 5))])\n",
      " |      >>> df = allTypes.toDF()\n",
      " |      >>> df.createOrReplaceTempView(\"allTypes\")\n",
      " |      >>> sqlContext.sql('select i+1, d+1, not b, list[1], dict[\"s\"], time, row.a '\n",
      " |      ...            'from allTypes where b and i > 0').collect()\n",
      " |      [Row((i + CAST(1 AS BIGINT))=2, (d + CAST(1 AS DOUBLE))=2.0, (NOT b)=False, list[1]=2,             dict[s]=0, time=datetime.datetime(2014, 8, 1, 14, 1, 5), a=1)]\n",
      " |      >>> df.rdd.map(lambda x: (x.i, x.s, x.d, x.l, x.b, x.time, x.row.a, x.list)).collect()\n",
      " |      [(1, u'string', 1.0, 1, True, datetime.datetime(2014, 8, 1, 14, 1, 5), 1, [1, 2, 3])]\n",
      " |  \n",
      " |  cacheTable(self, tableName)\n",
      " |      Caches the specified table in-memory.\n",
      " |      \n",
      " |      .. versionadded:: 1.0\n",
      " |  \n",
      " |  clearCache(self)\n",
      " |      Removes all cached tables from the in-memory cache.\n",
      " |      \n",
      " |      .. versionadded:: 1.3\n",
      " |  \n",
      " |  createDataFrame(self, data, schema=None, samplingRatio=None, verifySchema=True)\n",
      " |      Creates a :class:`DataFrame` from an :class:`RDD`, a list or a :class:`pandas.DataFrame`.\n",
      " |      \n",
      " |      When ``schema`` is a list of column names, the type of each column\n",
      " |      will be inferred from ``data``.\n",
      " |      \n",
      " |      When ``schema`` is ``None``, it will try to infer the schema (column names and types)\n",
      " |      from ``data``, which should be an RDD of :class:`Row`,\n",
      " |      or :class:`namedtuple`, or :class:`dict`.\n",
      " |      \n",
      " |      When ``schema`` is :class:`pyspark.sql.types.DataType` or\n",
      " |      :class:`pyspark.sql.types.StringType`, it must match the\n",
      " |      real data, or an exception will be thrown at runtime. If the given schema is not\n",
      " |      :class:`pyspark.sql.types.StructType`, it will be wrapped into a\n",
      " |      :class:`pyspark.sql.types.StructType` as its only field, and the field name will be \"value\",\n",
      " |      each record will also be wrapped into a tuple, which can be converted to row later.\n",
      " |      \n",
      " |      If schema inference is needed, ``samplingRatio`` is used to determined the ratio of\n",
      " |      rows used for schema inference. The first row will be used if ``samplingRatio`` is ``None``.\n",
      " |      \n",
      " |      :param data: an RDD of any kind of SQL data representation(e.g. :class:`Row`,\n",
      " |          :class:`tuple`, ``int``, ``boolean``, etc.), or :class:`list`, or\n",
      " |          :class:`pandas.DataFrame`.\n",
      " |      :param schema: a :class:`pyspark.sql.types.DataType` or a\n",
      " |          :class:`pyspark.sql.types.StringType` or a list of\n",
      " |          column names, default is None.  The data type string format equals to\n",
      " |          :class:`pyspark.sql.types.DataType.simpleString`, except that top level struct type can\n",
      " |          omit the ``struct<>`` and atomic types use ``typeName()`` as their format, e.g. use\n",
      " |          ``byte`` instead of ``tinyint`` for :class:`pyspark.sql.types.ByteType`.\n",
      " |          We can also use ``int`` as a short name for :class:`pyspark.sql.types.IntegerType`.\n",
      " |      :param samplingRatio: the sample ratio of rows used for inferring\n",
      " |      :param verifySchema: verify data types of every row against schema.\n",
      " |      :return: :class:`DataFrame`\n",
      " |      \n",
      " |      .. versionchanged:: 2.0\n",
      " |         The ``schema`` parameter can be a :class:`pyspark.sql.types.DataType` or a\n",
      " |         :class:`pyspark.sql.types.StringType` after 2.0.\n",
      " |         If it's not a :class:`pyspark.sql.types.StructType`, it will be wrapped into a\n",
      " |         :class:`pyspark.sql.types.StructType` and each record will also be wrapped into a tuple.\n",
      " |      \n",
      " |      .. versionchanged:: 2.0.1\n",
      " |         Added verifySchema.\n",
      " |      \n",
      " |      >>> l = [('Alice', 1)]\n",
      " |      >>> sqlContext.createDataFrame(l).collect()\n",
      " |      [Row(_1=u'Alice', _2=1)]\n",
      " |      >>> sqlContext.createDataFrame(l, ['name', 'age']).collect()\n",
      " |      [Row(name=u'Alice', age=1)]\n",
      " |      \n",
      " |      >>> d = [{'name': 'Alice', 'age': 1}]\n",
      " |      >>> sqlContext.createDataFrame(d).collect()\n",
      " |      [Row(age=1, name=u'Alice')]\n",
      " |      \n",
      " |      >>> rdd = sc.parallelize(l)\n",
      " |      >>> sqlContext.createDataFrame(rdd).collect()\n",
      " |      [Row(_1=u'Alice', _2=1)]\n",
      " |      >>> df = sqlContext.createDataFrame(rdd, ['name', 'age'])\n",
      " |      >>> df.collect()\n",
      " |      [Row(name=u'Alice', age=1)]\n",
      " |      \n",
      " |      >>> from pyspark.sql import Row\n",
      " |      >>> Person = Row('name', 'age')\n",
      " |      >>> person = rdd.map(lambda r: Person(*r))\n",
      " |      >>> df2 = sqlContext.createDataFrame(person)\n",
      " |      >>> df2.collect()\n",
      " |      [Row(name=u'Alice', age=1)]\n",
      " |      \n",
      " |      >>> from pyspark.sql.types import *\n",
      " |      >>> schema = StructType([\n",
      " |      ...    StructField(\"name\", StringType(), True),\n",
      " |      ...    StructField(\"age\", IntegerType(), True)])\n",
      " |      >>> df3 = sqlContext.createDataFrame(rdd, schema)\n",
      " |      >>> df3.collect()\n",
      " |      [Row(name=u'Alice', age=1)]\n",
      " |      \n",
      " |      >>> sqlContext.createDataFrame(df.toPandas()).collect()  # doctest: +SKIP\n",
      " |      [Row(name=u'Alice', age=1)]\n",
      " |      >>> sqlContext.createDataFrame(pandas.DataFrame([[1, 2]])).collect()  # doctest: +SKIP\n",
      " |      [Row(0=1, 1=2)]\n",
      " |      \n",
      " |      >>> sqlContext.createDataFrame(rdd, \"a: string, b: int\").collect()\n",
      " |      [Row(a=u'Alice', b=1)]\n",
      " |      >>> rdd = rdd.map(lambda row: row[1])\n",
      " |      >>> sqlContext.createDataFrame(rdd, \"int\").collect()\n",
      " |      [Row(value=1)]\n",
      " |      >>> sqlContext.createDataFrame(rdd, \"boolean\").collect() # doctest: +IGNORE_EXCEPTION_DETAIL\n",
      " |      Traceback (most recent call last):\n",
      " |          ...\n",
      " |      Py4JJavaError: ...\n",
      " |      \n",
      " |      .. versionadded:: 1.3\n",
      " |  \n",
      " |  createExternalTable(self, tableName, path=None, source=None, schema=None, **options)\n",
      " |      Creates an external table based on the dataset in a data source.\n",
      " |      \n",
      " |      It returns the DataFrame associated with the external table.\n",
      " |      \n",
      " |      The data source is specified by the ``source`` and a set of ``options``.\n",
      " |      If ``source`` is not specified, the default data source configured by\n",
      " |      ``spark.sql.sources.default`` will be used.\n",
      " |      \n",
      " |      Optionally, a schema can be provided as the schema of the returned :class:`DataFrame` and\n",
      " |      created external table.\n",
      " |      \n",
      " |      :return: :class:`DataFrame`\n",
      " |      \n",
      " |      .. versionadded:: 1.3\n",
      " |  \n",
      " |  dropTempTable(self, tableName)\n",
      " |      Remove the temp table from catalog.\n",
      " |      \n",
      " |      >>> sqlContext.registerDataFrameAsTable(df, \"table1\")\n",
      " |      >>> sqlContext.dropTempTable(\"table1\")\n",
      " |      \n",
      " |      .. versionadded:: 1.6\n",
      " |  \n",
      " |  getConf(self, key, defaultValue=None)\n",
      " |      Returns the value of Spark SQL configuration property for the given key.\n",
      " |      \n",
      " |      If the key is not set and defaultValue is not None, return\n",
      " |      defaultValue. If the key is not set and defaultValue is None, return\n",
      " |      the system default value.\n",
      " |      \n",
      " |      >>> sqlContext.getConf(\"spark.sql.shuffle.partitions\")\n",
      " |      u'200'\n",
      " |      >>> sqlContext.getConf(\"spark.sql.shuffle.partitions\", u\"10\")\n",
      " |      u'10'\n",
      " |      >>> sqlContext.setConf(\"spark.sql.shuffle.partitions\", u\"50\")\n",
      " |      >>> sqlContext.getConf(\"spark.sql.shuffle.partitions\", u\"10\")\n",
      " |      u'50'\n",
      " |      \n",
      " |      .. versionadded:: 1.3\n",
      " |  \n",
      " |  newSession(self)\n",
      " |      Returns a new SQLContext as new session, that has separate SQLConf,\n",
      " |      registered temporary views and UDFs, but shared SparkContext and\n",
      " |      table cache.\n",
      " |      \n",
      " |      .. versionadded:: 1.6\n",
      " |  \n",
      " |  range(self, start, end=None, step=1, numPartitions=None)\n",
      " |      Create a :class:`DataFrame` with single :class:`pyspark.sql.types.LongType` column named\n",
      " |      ``id``, containing elements in a range from ``start`` to ``end`` (exclusive) with\n",
      " |      step value ``step``.\n",
      " |      \n",
      " |      :param start: the start value\n",
      " |      :param end: the end value (exclusive)\n",
      " |      :param step: the incremental step (default: 1)\n",
      " |      :param numPartitions: the number of partitions of the DataFrame\n",
      " |      :return: :class:`DataFrame`\n",
      " |      \n",
      " |      >>> sqlContext.range(1, 7, 2).collect()\n",
      " |      [Row(id=1), Row(id=3), Row(id=5)]\n",
      " |      \n",
      " |      If only one argument is specified, it will be used as the end value.\n",
      " |      \n",
      " |      >>> sqlContext.range(3).collect()\n",
      " |      [Row(id=0), Row(id=1), Row(id=2)]\n",
      " |      \n",
      " |      .. versionadded:: 1.4\n",
      " |  \n",
      " |  registerDataFrameAsTable(self, df, tableName)\n",
      " |      Registers the given :class:`DataFrame` as a temporary table in the catalog.\n",
      " |      \n",
      " |      Temporary tables exist only during the lifetime of this instance of :class:`SQLContext`.\n",
      " |      \n",
      " |      >>> sqlContext.registerDataFrameAsTable(df, \"table1\")\n",
      " |      \n",
      " |      .. versionadded:: 1.3\n",
      " |  \n",
      " |  registerFunction(self, name, f, returnType=StringType)\n",
      " |      Registers a python function (including lambda function) as a UDF\n",
      " |      so it can be used in SQL statements.\n",
      " |      \n",
      " |      In addition to a name and the function itself, the return type can be optionally specified.\n",
      " |      When the return type is not given it default to a string and conversion will automatically\n",
      " |      be done.  For any other return type, the produced object must match the specified type.\n",
      " |      \n",
      " |      :param name: name of the UDF\n",
      " |      :param f: python function\n",
      " |      :param returnType: a :class:`pyspark.sql.types.DataType` object\n",
      " |      \n",
      " |      >>> sqlContext.registerFunction(\"stringLengthString\", lambda x: len(x))\n",
      " |      >>> sqlContext.sql(\"SELECT stringLengthString('test')\").collect()\n",
      " |      [Row(stringLengthString(test)=u'4')]\n",
      " |      \n",
      " |      >>> from pyspark.sql.types import IntegerType\n",
      " |      >>> sqlContext.registerFunction(\"stringLengthInt\", lambda x: len(x), IntegerType())\n",
      " |      >>> sqlContext.sql(\"SELECT stringLengthInt('test')\").collect()\n",
      " |      [Row(stringLengthInt(test)=4)]\n",
      " |      \n",
      " |      >>> from pyspark.sql.types import IntegerType\n",
      " |      >>> sqlContext.udf.register(\"stringLengthInt\", lambda x: len(x), IntegerType())\n",
      " |      >>> sqlContext.sql(\"SELECT stringLengthInt('test')\").collect()\n",
      " |      [Row(stringLengthInt(test)=4)]\n",
      " |      \n",
      " |      .. versionadded:: 1.2\n",
      " |  \n",
      " |  setConf(self, key, value)\n",
      " |      Sets the given Spark SQL configuration property.\n",
      " |      \n",
      " |      .. versionadded:: 1.3\n",
      " |  \n",
      " |  sql(self, sqlQuery)\n",
      " |      Returns a :class:`DataFrame` representing the result of the given query.\n",
      " |      \n",
      " |      :return: :class:`DataFrame`\n",
      " |      \n",
      " |      >>> sqlContext.registerDataFrameAsTable(df, \"table1\")\n",
      " |      >>> df2 = sqlContext.sql(\"SELECT field1 AS f1, field2 as f2 from table1\")\n",
      " |      >>> df2.collect()\n",
      " |      [Row(f1=1, f2=u'row1'), Row(f1=2, f2=u'row2'), Row(f1=3, f2=u'row3')]\n",
      " |      \n",
      " |      .. versionadded:: 1.0\n",
      " |  \n",
      " |  table(self, tableName)\n",
      " |      Returns the specified table as a :class:`DataFrame`.\n",
      " |      \n",
      " |      :return: :class:`DataFrame`\n",
      " |      \n",
      " |      >>> sqlContext.registerDataFrameAsTable(df, \"table1\")\n",
      " |      >>> df2 = sqlContext.table(\"table1\")\n",
      " |      >>> sorted(df.collect()) == sorted(df2.collect())\n",
      " |      True\n",
      " |      \n",
      " |      .. versionadded:: 1.0\n",
      " |  \n",
      " |  tableNames(self, dbName=None)\n",
      " |      Returns a list of names of tables in the database ``dbName``.\n",
      " |      \n",
      " |      :param dbName: string, name of the database to use. Default to the current database.\n",
      " |      :return: list of table names, in string\n",
      " |      \n",
      " |      >>> sqlContext.registerDataFrameAsTable(df, \"table1\")\n",
      " |      >>> \"table1\" in sqlContext.tableNames()\n",
      " |      True\n",
      " |      >>> \"table1\" in sqlContext.tableNames(\"default\")\n",
      " |      True\n",
      " |      \n",
      " |      .. versionadded:: 1.3\n",
      " |  \n",
      " |  tables(self, dbName=None)\n",
      " |      Returns a :class:`DataFrame` containing names of tables in the given database.\n",
      " |      \n",
      " |      If ``dbName`` is not specified, the current database will be used.\n",
      " |      \n",
      " |      The returned DataFrame has two columns: ``tableName`` and ``isTemporary``\n",
      " |      (a column with :class:`BooleanType` indicating if a table is a temporary one or not).\n",
      " |      \n",
      " |      :param dbName: string, name of the database to use.\n",
      " |      :return: :class:`DataFrame`\n",
      " |      \n",
      " |      >>> sqlContext.registerDataFrameAsTable(df, \"table1\")\n",
      " |      >>> df2 = sqlContext.tables()\n",
      " |      >>> df2.filter(\"tableName = 'table1'\").first()\n",
      " |      Row(tableName=u'table1', isTemporary=True)\n",
      " |      \n",
      " |      .. versionadded:: 1.3\n",
      " |  \n",
      " |  uncacheTable(self, tableName)\n",
      " |      Removes the specified table from the in-memory cache.\n",
      " |      \n",
      " |      .. versionadded:: 1.0\n",
      " |  \n",
      " |  ----------------------------------------------------------------------\n",
      " |  Class methods defined here:\n",
      " |  \n",
      " |  getOrCreate(cls, sc) from __builtin__.type\n",
      " |      Get the existing SQLContext or create a new one with given SparkContext.\n",
      " |      \n",
      " |      :param sc: SparkContext\n",
      " |      \n",
      " |      .. versionadded:: 1.6\n",
      " |  \n",
      " |  ----------------------------------------------------------------------\n",
      " |  Data descriptors defined here:\n",
      " |  \n",
      " |  __dict__\n",
      " |      dictionary for instance variables (if defined)\n",
      " |  \n",
      " |  __weakref__\n",
      " |      list of weak references to the object (if defined)\n",
      " |  \n",
      " |  read\n",
      " |      Returns a :class:`DataFrameReader` that can be used to read data\n",
      " |      in as a :class:`DataFrame`.\n",
      " |      \n",
      " |      :return: :class:`DataFrameReader`\n",
      " |      \n",
      " |      .. versionadded:: 1.4\n",
      " |  \n",
      " |  readStream\n",
      " |      Returns a :class:`DataStreamReader` that can be used to read data streams\n",
      " |      as a streaming :class:`DataFrame`.\n",
      " |      \n",
      " |      .. note:: Experimental.\n",
      " |      \n",
      " |      :return: :class:`DataStreamReader`\n",
      " |      \n",
      " |      >>> text_sdf = sqlContext.readStream.text(tempfile.mkdtemp())\n",
      " |      >>> text_sdf.isStreaming\n",
      " |      True\n",
      " |      \n",
      " |      .. versionadded:: 2.0\n",
      " |  \n",
      " |  streams\n",
      " |      Returns a :class:`StreamingQueryManager` that allows managing all the\n",
      " |      :class:`StreamingQuery` StreamingQueries active on `this` context.\n",
      " |      \n",
      " |      .. note:: Experimental.\n",
      " |      \n",
      " |      .. versionadded:: 2.0\n",
      " |  \n",
      " |  udf\n",
      " |      Returns a :class:`UDFRegistration` for UDF registration.\n",
      " |      \n",
      " |      :return: :class:`UDFRegistration`\n",
      " |      \n",
      " |      .. versionadded:: 1.3.1\n",
      "\n"
     ]
    }
   ],
   "source": [
    "# Use help to obtain more detailed information\n",
    "help(sqlContext)"
   ]
  },
  {
   "cell_type": "code",
   "execution_count": 8,
   "metadata": {},
   "outputs": [
    {
     "name": "stdout",
     "output_type": "stream",
     "text": [
      "Help on built-in function map in module __builtin__:\n",
      "\n",
      "map(...)\n",
      "    map(function, sequence[, sequence, ...]) -> list\n",
      "    \n",
      "    Return a list of the results of applying the function to the items of\n",
      "    the argument sequence(s).  If more than one sequence is given, the\n",
      "    function is called with an argument list consisting of the corresponding\n",
      "    item of each sequence, substituting None for missing values when not all\n",
      "    sequences have the same length.  If the function is None, return a list of\n",
      "    the items of the sequence (or a list of tuples if more than one sequence).\n",
      "\n"
     ]
    }
   ],
   "source": [
    "# Help can be used on any Python object\n",
    "help(map)"
   ]
  },
  {
   "cell_type": "markdown",
   "metadata": {},
   "source": [
    "## Part 2: Exploratory Data Analysis\n",
    "Let's begin looking at our data. For this lab, we will use a data set from NASA Kennedy Space Center web server in Florida. The full data set is freely available at http://ita.ee.lbl.gov/html/contrib/NASA-HTTP.html, and it contains all HTTP requests for two months. We are using a subset that only contains several days' worth of requests. The log file has already been downloaded for you."
   ]
  },
  {
   "cell_type": "code",
   "execution_count": 9,
   "metadata": {
    "collapsed": true
   },
   "outputs": [],
   "source": [
    "import sys\n",
    "import os\n",
    "# log_file_path = 'hdfs:/' + os.path.join('user', 'root', 'apache.access.log.PROJECT')\n",
    "log_file_path = \"/Users/lisurprise/zhichao/bin/god/fudan/spark-tutorial-f/tutorial/access_log_Aug95\""
   ]
  },
  {
   "cell_type": "markdown",
   "metadata": {},
   "source": [
    "### (2a) Loading the log file\n",
    "Now that we have the path to the file, let's load it into a DataFrame. We'll do this in steps. First, we'll use `sqlContext.read.text()` to read the text file. This will produce a DataFrame with a single string column called value."
   ]
  },
  {
   "cell_type": "code",
   "execution_count": 10,
   "metadata": {},
   "outputs": [
    {
     "name": "stdout",
     "output_type": "stream",
     "text": [
      "root\n",
      " |-- value: string (nullable = true)\n",
      "\n"
     ]
    }
   ],
   "source": [
    "base_df = sqlContext.read.text(log_file_path)\n",
    "base_df.printSchema()"
   ]
  },
  {
   "cell_type": "markdown",
   "metadata": {},
   "source": [
    "Let's take a look at some of the data."
   ]
  },
  {
   "cell_type": "code",
   "execution_count": 11,
   "metadata": {},
   "outputs": [
    {
     "name": "stdout",
     "output_type": "stream",
     "text": [
      "+-------------------------------------------------------------------------------------------------------------------------------+\n",
      "|value                                                                                                                          |\n",
      "+-------------------------------------------------------------------------------------------------------------------------------+\n",
      "|in24.inetnebr.com - - [01/Aug/1995:00:00:01 -0400] \"GET /shuttle/missions/sts-68/news/sts-68-mcc-05.txt HTTP/1.0\" 200 1839     |\n",
      "|uplherc.upl.com - - [01/Aug/1995:00:00:07 -0400] \"GET / HTTP/1.0\" 304 0                                                        |\n",
      "|uplherc.upl.com - - [01/Aug/1995:00:00:08 -0400] \"GET /images/ksclogo-medium.gif HTTP/1.0\" 304 0                               |\n",
      "|uplherc.upl.com - - [01/Aug/1995:00:00:08 -0400] \"GET /images/MOSAIC-logosmall.gif HTTP/1.0\" 304 0                             |\n",
      "|uplherc.upl.com - - [01/Aug/1995:00:00:08 -0400] \"GET /images/USA-logosmall.gif HTTP/1.0\" 304 0                                |\n",
      "|ix-esc-ca2-07.ix.netcom.com - - [01/Aug/1995:00:00:09 -0400] \"GET /images/launch-logo.gif HTTP/1.0\" 200 1713                   |\n",
      "|uplherc.upl.com - - [01/Aug/1995:00:00:10 -0400] \"GET /images/WORLD-logosmall.gif HTTP/1.0\" 304 0                              |\n",
      "|slppp6.intermind.net - - [01/Aug/1995:00:00:10 -0400] \"GET /history/skylab/skylab.html HTTP/1.0\" 200 1687                      |\n",
      "|piweba4y.prodigy.com - - [01/Aug/1995:00:00:10 -0400] \"GET /images/launchmedium.gif HTTP/1.0\" 200 11853                        |\n",
      "|slppp6.intermind.net - - [01/Aug/1995:00:00:11 -0400] \"GET /history/skylab/skylab-small.gif HTTP/1.0\" 200 9202                 |\n",
      "|slppp6.intermind.net - - [01/Aug/1995:00:00:12 -0400] \"GET /images/ksclogosmall.gif HTTP/1.0\" 200 3635                         |\n",
      "|ix-esc-ca2-07.ix.netcom.com - - [01/Aug/1995:00:00:12 -0400] \"GET /history/apollo/images/apollo-logo1.gif HTTP/1.0\" 200 1173   |\n",
      "|slppp6.intermind.net - - [01/Aug/1995:00:00:13 -0400] \"GET /history/apollo/images/apollo-logo.gif HTTP/1.0\" 200 3047           |\n",
      "|uplherc.upl.com - - [01/Aug/1995:00:00:14 -0400] \"GET /images/NASA-logosmall.gif HTTP/1.0\" 304 0                               |\n",
      "|133.43.96.45 - - [01/Aug/1995:00:00:16 -0400] \"GET /shuttle/missions/sts-69/mission-sts-69.html HTTP/1.0\" 200 10566            |\n",
      "|kgtyk4.kj.yamagata-u.ac.jp - - [01/Aug/1995:00:00:17 -0400] \"GET / HTTP/1.0\" 200 7280                                          |\n",
      "|kgtyk4.kj.yamagata-u.ac.jp - - [01/Aug/1995:00:00:18 -0400] \"GET /images/ksclogo-medium.gif HTTP/1.0\" 200 5866                 |\n",
      "|d0ucr6.fnal.gov - - [01/Aug/1995:00:00:19 -0400] \"GET /history/apollo/apollo-16/apollo-16.html HTTP/1.0\" 200 2743              |\n",
      "|ix-esc-ca2-07.ix.netcom.com - - [01/Aug/1995:00:00:19 -0400] \"GET /shuttle/resources/orbiters/discovery.html HTTP/1.0\" 200 6849|\n",
      "|d0ucr6.fnal.gov - - [01/Aug/1995:00:00:20 -0400] \"GET /history/apollo/apollo-16/apollo-16-patch-small.gif HTTP/1.0\" 200 14897  |\n",
      "+-------------------------------------------------------------------------------------------------------------------------------+\n",
      "only showing top 20 rows\n",
      "\n"
     ]
    }
   ],
   "source": [
    "base_df.show(truncate=False)"
   ]
  },
  {
   "cell_type": "code",
   "execution_count": 12,
   "metadata": {},
   "outputs": [
    {
     "data": {
      "text/plain": [
       "1569898"
      ]
     },
     "execution_count": 12,
     "metadata": {},
     "output_type": "execute_result"
    }
   ],
   "source": [
    "base_df.count()"
   ]
  },
  {
   "cell_type": "markdown",
   "metadata": {},
   "source": [
    "### (2b) Parsing the log file"
   ]
  },
  {
   "cell_type": "markdown",
   "metadata": {},
   "source": [
    "If you're familiar with web servers at all, you'll recognize that this is in [Common Log Format](https://www.w3.org/Daemon/User/Config/Logging.html#common-logfile-format). The fields are:\n",
    "    \n",
    "    remotehost rfc931 authuser [date] \"request\" status bytes\n",
    "    \n",
    "field | meaning \n",
    ":---|:---\n",
    "`remotehost` | Remote hostname (or IP number if DNS hostname is not available).\n",
    "`rfc931` | The remote logname of the user. We don't really care about this field.\n",
    "`authuser` | The username of the remote user, as authenticated by the HTTP server.\n",
    "`[date]` | The date and time of the request.\n",
    "`\"request\"`| The request, exactly as it came from the browser or client.\n",
    "`status` | The HTTP status code the server sent back to the client.\n",
    "`bytes` | The number of bytes (Content-Length) transferred to the client.\n",
    "\n",
    "Next, we have to parse it into individual columns. We'll use the special built-in [regexp_extract()](http://spark.apache.org/docs/latest/api/python/pyspark.sql.html#pyspark.sql.functions.regexp_extract) function to do the parsing. This function matches a column against a regular expression with one or more [capture groups](http://regexone.com/lesson/capturing_groups) and allows you to extract one of the matched groups. We'll use one regular expression for each field we wish to extract.\n",
    "\n",
    "If you can't read these regular expressions, don't worry. Trust us: They work. If you find regular expressions confusing (and they certainly can be), and you want to learn more about them, start with the [RegexOne web site](http://regexone.com/). You might also find [Regular Expressions Cookbook](http://shop.oreilly.com/product/0636920023630.do), by Jan Goyvaerts and Steven Levithan, to be helpful.\n",
    "\n",
    "Some people, when confronted with a problem, think \"I know, I'll use regular expressions.\" Now they have two problems. (attributed to Jamie Zawinski)"
   ]
  },
  {
   "cell_type": "code",
   "execution_count": 13,
   "metadata": {
    "scrolled": true
   },
   "outputs": [
    {
     "name": "stdout",
     "output_type": "stream",
     "text": [
      "+----------------------------+--------------------------+---------------------------------------------------+------+------------+\n",
      "|host                        |timestamp                 |path                                               |status|content_size|\n",
      "+----------------------------+--------------------------+---------------------------------------------------+------+------------+\n",
      "|in24.inetnebr.com           |01/Aug/1995:00:00:01 -0400|/shuttle/missions/sts-68/news/sts-68-mcc-05.txt    |200   |1839        |\n",
      "|uplherc.upl.com             |01/Aug/1995:00:00:07 -0400|/                                                  |304   |0           |\n",
      "|uplherc.upl.com             |01/Aug/1995:00:00:08 -0400|/images/ksclogo-medium.gif                         |304   |0           |\n",
      "|uplherc.upl.com             |01/Aug/1995:00:00:08 -0400|/images/MOSAIC-logosmall.gif                       |304   |0           |\n",
      "|uplherc.upl.com             |01/Aug/1995:00:00:08 -0400|/images/USA-logosmall.gif                          |304   |0           |\n",
      "|ix-esc-ca2-07.ix.netcom.com |01/Aug/1995:00:00:09 -0400|/images/launch-logo.gif                            |200   |1713        |\n",
      "|uplherc.upl.com             |01/Aug/1995:00:00:10 -0400|/images/WORLD-logosmall.gif                        |304   |0           |\n",
      "|slppp6.intermind.net        |01/Aug/1995:00:00:10 -0400|/history/skylab/skylab.html                        |200   |1687        |\n",
      "|piweba4y.prodigy.com        |01/Aug/1995:00:00:10 -0400|/images/launchmedium.gif                           |200   |11853       |\n",
      "|slppp6.intermind.net        |01/Aug/1995:00:00:11 -0400|/history/skylab/skylab-small.gif                   |200   |9202        |\n",
      "|slppp6.intermind.net        |01/Aug/1995:00:00:12 -0400|/images/ksclogosmall.gif                           |200   |3635        |\n",
      "|ix-esc-ca2-07.ix.netcom.com |01/Aug/1995:00:00:12 -0400|/history/apollo/images/apollo-logo1.gif            |200   |1173        |\n",
      "|slppp6.intermind.net        |01/Aug/1995:00:00:13 -0400|/history/apollo/images/apollo-logo.gif             |200   |3047        |\n",
      "|uplherc.upl.com             |01/Aug/1995:00:00:14 -0400|/images/NASA-logosmall.gif                         |304   |0           |\n",
      "|133.43.96.45                |01/Aug/1995:00:00:16 -0400|/shuttle/missions/sts-69/mission-sts-69.html       |200   |10566       |\n",
      "|kgtyk4.kj.yamagata-u.ac.jp  |01/Aug/1995:00:00:17 -0400|/                                                  |200   |7280        |\n",
      "|kgtyk4.kj.yamagata-u.ac.jp  |01/Aug/1995:00:00:18 -0400|/images/ksclogo-medium.gif                         |200   |5866        |\n",
      "|d0ucr6.fnal.gov             |01/Aug/1995:00:00:19 -0400|/history/apollo/apollo-16/apollo-16.html           |200   |2743        |\n",
      "|ix-esc-ca2-07.ix.netcom.com |01/Aug/1995:00:00:19 -0400|/shuttle/resources/orbiters/discovery.html         |200   |6849        |\n",
      "|d0ucr6.fnal.gov             |01/Aug/1995:00:00:20 -0400|/history/apollo/apollo-16/apollo-16-patch-small.gif|200   |14897       |\n",
      "+----------------------------+--------------------------+---------------------------------------------------+------+------------+\n",
      "only showing top 20 rows\n",
      "\n"
     ]
    }
   ],
   "source": [
    "from pyspark.sql.functions import split, regexp_extract\n",
    "split_df = base_df.select(regexp_extract('value', r'^([^\\s]+\\s)', 1).alias('host'),\n",
    "                          regexp_extract('value', r'^.*\\[(\\d\\d/\\w{3}/\\d{4}:\\d{2}:\\d{2}:\\d{2} -\\d{4})]', 1).alias('timestamp'),\n",
    "                          regexp_extract('value', r'^.*\"\\w+\\s+([^\\s]+)\\s+HTTP.*\"', 1).alias('path'),\n",
    "                          regexp_extract('value', r'^.*\"\\s+([^\\s]+)', 1).cast('integer').alias('status'),\n",
    "                          regexp_extract('value', r'^.*\\s+(\\d+)$', 1).cast('integer').alias('content_size')).dropna(subset='status')\n",
    "split_df.show(truncate=False)"
   ]
  },
  {
   "cell_type": "markdown",
   "metadata": {},
   "source": [
    "### (2c) Data Cleaning\n",
    "Let's see how well our parsing logic worked. First, let's verify that there are no null rows in the original data set."
   ]
  },
  {
   "cell_type": "code",
   "execution_count": 14,
   "metadata": {},
   "outputs": [
    {
     "data": {
      "text/plain": [
       "0"
      ]
     },
     "execution_count": 14,
     "metadata": {},
     "output_type": "execute_result"
    }
   ],
   "source": [
    "base_df.filter(base_df['value'].isNull()).count()"
   ]
  },
  {
   "cell_type": "markdown",
   "metadata": {},
   "source": [
    "If our parsing worked properly, we'll have no rows with null column values. Let's check."
   ]
  },
  {
   "cell_type": "code",
   "execution_count": 15,
   "metadata": {
    "scrolled": true
   },
   "outputs": [
    {
     "data": {
      "text/plain": [
       "14178"
      ]
     },
     "execution_count": 15,
     "metadata": {},
     "output_type": "execute_result"
    }
   ],
   "source": [
    "bad_rows_df = split_df.filter(split_df['host'].isNull() |\n",
    "                              split_df['timestamp'].isNull() |\n",
    "                              split_df['path'].isNull() |\n",
    "                              split_df['status'].isNull() |\n",
    "                              split_df['content_size'].isNull()\n",
    "                              )\n",
    "bad_rows_df.count()"
   ]
  },
  {
   "cell_type": "markdown",
   "metadata": {},
   "source": [
    "Not good. We have some null values. Something went wrong. Which columns are affected?\n",
    "\n",
    "(Note: This approach is adapted from an [excellent answer](http://stackoverflow.com/a/33901312) on StackOverflow.)"
   ]
  },
  {
   "cell_type": "code",
   "execution_count": 16,
   "metadata": {},
   "outputs": [
    {
     "name": "stdout",
     "output_type": "stream",
     "text": [
      "+----+---------+----+------+------------+\n",
      "|host|timestamp|path|status|content_size|\n",
      "+----+---------+----+------+------------+\n",
      "|   0|        0|   0|     0|       14178|\n",
      "+----+---------+----+------+------------+\n",
      "\n"
     ]
    }
   ],
   "source": [
    "from pyspark.sql.functions import col, sum\n",
    "def count_null(col_name):\n",
    "    return sum(col(col_name).isNull().cast('integer')).alias(col_name)\n",
    "exprs = [count_null(col_name) for col_name in split_df.columns]\n",
    "split_df.agg(*exprs).show()"
   ]
  },
  {
   "cell_type": "markdown",
   "metadata": {},
   "source": [
    "Okay, they're all in the content_size column. Let's see if we can figure out what's wrong. Our original parsing regular expression for that column was:\n",
    "```python\n",
    "regexp_extract('value', r'^.*\\s+(\\d+)$', 1).cast('integer').alias('content_size')\n",
    "```\n",
    "The `\\d+` selects one or more digits at the end of the input line. Is it possible there are lines without a valid content size? Or is there something wrong with our regular expression? Let's see if there are any lines that do not end with one or more digits.\n",
    "\n",
    "**Note**: In the expression below, `~` means \"not\"."
   ]
  },
  {
   "cell_type": "code",
   "execution_count": 17,
   "metadata": {},
   "outputs": [
    {
     "data": {
      "text/plain": [
       "14178"
      ]
     },
     "execution_count": 17,
     "metadata": {},
     "output_type": "execute_result"
    }
   ],
   "source": [
    "bad_content_size_df = base_df.filter(~ base_df['value'].rlike(r'\\d+$'))\n",
    "bad_content_size_df.count()"
   ]
  },
  {
   "cell_type": "markdown",
   "metadata": {},
   "source": [
    "That's it! The count matches the number of rows in `bad_rows_df` exactly.\n",
    "\n",
    "Let's take a look at some of the bad column values. Since it's possible that the rows end in extra white space, we'll tack a marker character onto the end of each line, to make it easier to see trailing white space."
   ]
  },
  {
   "cell_type": "code",
   "execution_count": 18,
   "metadata": {},
   "outputs": [
    {
     "name": "stdout",
     "output_type": "stream",
     "text": [
      "+----------------------------------------------------------------------------------------------------------------------------+\n",
      "|concat(value, *)                                                                                                            |\n",
      "+----------------------------------------------------------------------------------------------------------------------------+\n",
      "|gw1.att.com - - [01/Aug/1995:00:03:53 -0400] \"GET /shuttle/missions/sts-73/news HTTP/1.0\" 302 -*                            |\n",
      "|js002.cc.utsunomiya-u.ac.jp - - [01/Aug/1995:00:07:33 -0400] \"GET /shuttle/resources/orbiters/discovery.gif HTTP/1.0\" 404 -*|\n",
      "|tia1.eskimo.com - - [01/Aug/1995:00:28:41 -0400] \"GET /pub/winvn/release.txt HTTP/1.0\" 404 -*                               |\n",
      "|itws.info.eng.niigata-u.ac.jp - - [01/Aug/1995:00:38:01 -0400] \"GET /ksc.html/facts/about_ksc.html HTTP/1.0\" 403 -*         |\n",
      "|grimnet23.idirect.com - - [01/Aug/1995:00:50:12 -0400] \"GET /www/software/winvn/winvn.html HTTP/1.0\" 404 -*                 |\n",
      "|miriworld.its.unimelb.edu.au - - [01/Aug/1995:01:04:54 -0400] \"GET /history/history.htm HTTP/1.0\" 404 -*                    |\n",
      "|ras38.srv.net - - [01/Aug/1995:01:05:14 -0400] \"GET /elv/DELTA/uncons.htm HTTP/1.0\" 404 -*                                  |\n",
      "|cs1-06.leh.ptd.net - - [01/Aug/1995:01:17:38 -0400] \"GET /sts-71/launch/\" 404 -*                                            |\n",
      "|www-b2.proxy.aol.com - - [01/Aug/1995:01:22:07 -0400] \"GET /shuttle/countdown HTTP/1.0\" 302 -*                              |\n",
      "|maui56.maui.net - - [01/Aug/1995:01:31:56 -0400] \"GET /shuttle HTTP/1.0\" 302 -*                                             |\n",
      "|dialip-24.athenet.net - - [01/Aug/1995:01:33:02 -0400] \"GET /history/apollo/apollo-13.html HTTP/1.0\" 404 -*                 |\n",
      "|h96-158.ccnet.com - - [01/Aug/1995:01:35:50 -0400] \"GET /history/apollo/a-001/a-001-patch-small.gif HTTP/1.0\" 404 -*        |\n",
      "|h96-158.ccnet.com - - [01/Aug/1995:01:36:23 -0400] \"GET /history/apollo/a-001/movies/ HTTP/1.0\" 404 -*                      |\n",
      "|h96-158.ccnet.com - - [01/Aug/1995:01:36:30 -0400] \"GET /history/apollo/a-001/a-001-patch-small.gif HTTP/1.0\" 404 -*        |\n",
      "|h96-158.ccnet.com - - [01/Aug/1995:01:36:38 -0400] \"GET /history/apollo/a-001/movies/ HTTP/1.0\" 404 -*                      |\n",
      "|h96-158.ccnet.com - - [01/Aug/1995:01:36:42 -0400] \"GET /history/apollo/a-001/a-001-patch-small.gif HTTP/1.0\" 404 -*        |\n",
      "|h96-158.ccnet.com - - [01/Aug/1995:01:36:44 -0400] \"GET /history/apollo/a-001/images/ HTTP/1.0\" 404 -*                      |\n",
      "|h96-158.ccnet.com - - [01/Aug/1995:01:36:47 -0400] \"GET /history/apollo/a-001/a-001-patch-small.gif HTTP/1.0\" 404 -*        |\n",
      "|h96-158.ccnet.com - - [01/Aug/1995:01:37:04 -0400] \"GET /history/apollo/a-004/a-004-patch-small.gif HTTP/1.0\" 404 -*        |\n",
      "|h96-158.ccnet.com - - [01/Aug/1995:01:37:05 -0400] \"GET /history/apollo/a-004/movies/ HTTP/1.0\" 404 -*                      |\n",
      "+----------------------------------------------------------------------------------------------------------------------------+\n",
      "only showing top 20 rows\n",
      "\n"
     ]
    }
   ],
   "source": [
    "from pyspark.sql.functions import lit, concat\n",
    "bad_content_size_df.select(concat(bad_content_size_df['value'], lit('*'))).show(truncate=False)"
   ]
  },
  {
   "cell_type": "markdown",
   "metadata": {},
   "source": [
    "Ah. The bad rows correspond to error results, where no content was sent back and the server emitted a \"`-`\" for the `content_size` field. Since we don't want to discard those rows from our analysis, let's map them to 0."
   ]
  },
  {
   "cell_type": "markdown",
   "metadata": {},
   "source": [
    "### (2d) Fix the rows with null content_size\n",
    "The easiest solution is to replace the null values in split_df with 0. The DataFrame API provides a set of functions and fields specifically designed for working with null values, among them:\n",
    "* `fillna()`, which fills null values with specified non-null values.\n",
    "* na, which returns a DataFrameNaFunctions object with many functions for operating on null columns.\n",
    "\n",
    "We'll use `fillna()`, because it's simple. There are several ways to invoke this function. The easiest is just to replace all null columns with known values. But, for safety, it's better to pass a Python dictionary containing (column_name, value) mappings. That's what we'll do."
   ]
  },
  {
   "cell_type": "code",
   "execution_count": 19,
   "metadata": {},
   "outputs": [
    {
     "name": "stdout",
     "output_type": "stream",
     "text": [
      "+----+---------+----+------+------------+\n",
      "|host|timestamp|path|status|content_size|\n",
      "+----+---------+----+------+------------+\n",
      "|   0|        0|   0|     0|           0|\n",
      "+----+---------+----+------+------------+\n",
      "\n"
     ]
    }
   ],
   "source": [
    "# Replace all null content_size values with 0.\n",
    "cleaned_df = split_df.na.fill({'content_size': 0})\n",
    "# Ensure that there are no nulls left.\n",
    "exprs = [count_null(col_name) for col_name in cleaned_df.columns]\n",
    "cleaned_df.agg(*exprs).show()"
   ]
  },
  {
   "cell_type": "markdown",
   "metadata": {},
   "source": [
    "### (2e) Parsing the timestamp\n",
    "Okay, now that we have a clean, parsed DataFrame, we have to parse the timestamp field into an actual timestamp. The Common Log Format time is somewhat non-standard. A User-Defined Function (UDF) is the most straightforward way to parse it."
   ]
  },
  {
   "cell_type": "code",
   "execution_count": 20,
   "metadata": {},
   "outputs": [
    {
     "name": "stdout",
     "output_type": "stream",
     "text": [
      "root\n",
      " |-- host: string (nullable = true)\n",
      " |-- path: string (nullable = true)\n",
      " |-- status: integer (nullable = true)\n",
      " |-- content_size: integer (nullable = false)\n",
      " |-- time: timestamp (nullable = true)\n",
      "\n"
     ]
    }
   ],
   "source": [
    "from pyspark.sql.functions import udf\n",
    "\n",
    "month_map = {\n",
    "    'Jan': 1, 'Feb': 2, 'Mar': 3, 'Apr': 4, 'May': 5, 'Jun': 6,\n",
    "    'Jul': 7, 'Aug': 8, 'Sep': 9, 'Oct': 10, 'Nov': 11, 'Dec': 12\n",
    "}\n",
    "\n",
    "def parse_clf_time(s):\n",
    "    return \"{0:02d}-{1:02d}-{2:04d} {3:02d}:{4:02d}:{5:02d}\".format(\n",
    "        int(s[7:11]),\n",
    "        month_map[s[3:6]],\n",
    "        int(s[0:2]),\n",
    "        int(s[12:14]),\n",
    "        int(s[15:17]),\n",
    "        int(s[18:20])\n",
    "    )\n",
    "\n",
    "u_parse_time = udf(parse_clf_time)\n",
    "logs_df = cleaned_df.select('*', u_parse_time(split_df['timestamp']).cast('timestamp').alias('time')).drop('timestamp')\n",
    "total_log_entries = logs_df.count()\n",
    "\n",
    "logs_df.printSchema()"
   ]
  },
  {
   "cell_type": "markdown",
   "metadata": {},
   "source": [
    "Let's cache `logs_df`. We're going to be using it quite a bit from here forward."
   ]
  },
  {
   "cell_type": "code",
   "execution_count": 21,
   "metadata": {},
   "outputs": [
    {
     "name": "stdout",
     "output_type": "stream",
     "text": [
      "+--------------------+--------------------+------+------------+--------------------+\n",
      "|                host|                path|status|content_size|                time|\n",
      "+--------------------+--------------------+------+------------+--------------------+\n",
      "|  in24.inetnebr.com |/shuttle/missions...|   200|        1839|1995-08-01 00:00:...|\n",
      "|    uplherc.upl.com |                   /|   304|           0|1995-08-01 00:00:...|\n",
      "|    uplherc.upl.com |/images/ksclogo-m...|   304|           0|1995-08-01 00:00:...|\n",
      "|    uplherc.upl.com |/images/MOSAIC-lo...|   304|           0|1995-08-01 00:00:...|\n",
      "|    uplherc.upl.com |/images/USA-logos...|   304|           0|1995-08-01 00:00:...|\n",
      "|ix-esc-ca2-07.ix....|/images/launch-lo...|   200|        1713|1995-08-01 00:00:...|\n",
      "|    uplherc.upl.com |/images/WORLD-log...|   304|           0|1995-08-01 00:00:...|\n",
      "|slppp6.intermind....|/history/skylab/s...|   200|        1687|1995-08-01 00:00:...|\n",
      "|piweba4y.prodigy....|/images/launchmed...|   200|       11853|1995-08-01 00:00:...|\n",
      "|slppp6.intermind....|/history/skylab/s...|   200|        9202|1995-08-01 00:00:...|\n",
      "|slppp6.intermind....|/images/ksclogosm...|   200|        3635|1995-08-01 00:00:...|\n",
      "|ix-esc-ca2-07.ix....|/history/apollo/i...|   200|        1173|1995-08-01 00:00:...|\n",
      "|slppp6.intermind....|/history/apollo/i...|   200|        3047|1995-08-01 00:00:...|\n",
      "|    uplherc.upl.com |/images/NASA-logo...|   304|           0|1995-08-01 00:00:...|\n",
      "|       133.43.96.45 |/shuttle/missions...|   200|       10566|1995-08-01 00:00:...|\n",
      "|kgtyk4.kj.yamagat...|                   /|   200|        7280|1995-08-01 00:00:...|\n",
      "|kgtyk4.kj.yamagat...|/images/ksclogo-m...|   200|        5866|1995-08-01 00:00:...|\n",
      "|    d0ucr6.fnal.gov |/history/apollo/a...|   200|        2743|1995-08-01 00:00:...|\n",
      "|ix-esc-ca2-07.ix....|/shuttle/resource...|   200|        6849|1995-08-01 00:00:...|\n",
      "|    d0ucr6.fnal.gov |/history/apollo/a...|   200|       14897|1995-08-01 00:00:...|\n",
      "+--------------------+--------------------+------+------------+--------------------+\n",
      "only showing top 20 rows\n",
      "\n",
      "1569898\n"
     ]
    },
    {
     "data": {
      "text/plain": [
       "DataFrame[host: string, path: string, status: int, content_size: int, time: timestamp]"
      ]
     },
     "execution_count": 21,
     "metadata": {},
     "output_type": "execute_result"
    }
   ],
   "source": [
    "logs_df.show(truncate=True)\n",
    "print(total_log_entries)\n",
    "logs_df.cache()"
   ]
  },
  {
   "cell_type": "markdown",
   "metadata": {},
   "source": [
    "## Part 3: Analysis Walk-Through on the Web Server Log File\n",
    "Now that we have a DataFrame containing the parsed log file as a set of Row objects, we can perform various analyses."
   ]
  },
  {
   "cell_type": "markdown",
   "metadata": {},
   "source": [
    "### (3a) Example: Content Size Statistics\n",
    "Let's compute some statistics about the sizes of content being returned by the web server. In particular, we'd like to know what are the average, minimum, and maximum content sizes.\n",
    "\n",
    "We can compute the statistics by calling `.describe()` on the `content_size` column of `logs_df`. The `.describe()` function returns the count, mean, stddev, min, and max of a given column."
   ]
  },
  {
   "cell_type": "code",
   "execution_count": 22,
   "metadata": {},
   "outputs": [
    {
     "name": "stdout",
     "output_type": "stream",
     "text": [
      "+-------+------------------+\n",
      "|summary|      content_size|\n",
      "+-------+------------------+\n",
      "|  count|           1569898|\n",
      "|   mean|17089.225812122826|\n",
      "| stddev| 67954.76392157092|\n",
      "|    min|                 0|\n",
      "|    max|           3421948|\n",
      "+-------+------------------+\n",
      "\n"
     ]
    }
   ],
   "source": [
    "content_size_summary_df = logs_df.describe(['content_size'])\n",
    "content_size_summary_df.show()"
   ]
  },
  {
   "cell_type": "markdown",
   "metadata": {},
   "source": [
    "Alternatively, we can use SQL to directly calculate these statistics. You can explore the many useful functions within the `pyspark.sql.functions` module in the [documentation](https://spark.apache.org/docs/latest/api/python/pyspark.sql.html#module-pyspark.sql.functions).\n",
    "\n",
    "After we apply the `.agg()` function, we call `.first()` to extract the first value, which is equivalent to `.take(1)[0]`."
   ]
  },
  {
   "cell_type": "code",
   "execution_count": 23,
   "metadata": {},
   "outputs": [
    {
     "name": "stdout",
     "output_type": "stream",
     "text": [
      "Using SQL Functions: \n",
      "Content Size Avg: 17,089.23; Min: 0.00; Max: 3,421,948\n"
     ]
    }
   ],
   "source": [
    "from pyspark.sql import functions as sqlFunctions\n",
    "content_size_stats = (logs_df\n",
    "                      .agg(sqlFunctions.min(logs_df['content_size']),\n",
    "                           sqlFunctions.avg(logs_df['content_size']),\n",
    "                           sqlFunctions.max(logs_df['content_size']))\n",
    "                      .first())\n",
    "\n",
    "print('Using SQL Functions: ')\n",
    "print('Content Size Avg: {1:,.2f}; Min: {0:,.2f}; Max: {2:,.0f}'.format(*content_size_stats))"
   ]
  },
  {
   "cell_type": "markdown",
   "metadata": {},
   "source": [
    "### (3b) Example: HTTP Status Analysis\n",
    "Next, let's look at the status values that appear in the log. We want to know which status values appear in the data and how many times. We again start with `logs_df`, then group by the `status` column, apply the `.count()` aggregation function, and sort by the `status` column."
   ]
  },
  {
   "cell_type": "code",
   "execution_count": 24,
   "metadata": {},
   "outputs": [
    {
     "name": "stdout",
     "output_type": "stream",
     "text": [
      "Found 8 response codes\n",
      "+------+-------+\n",
      "|status|  count|\n",
      "+------+-------+\n",
      "|   200|1398988|\n",
      "|   302|  26497|\n",
      "|   304| 134146|\n",
      "|   400|     10|\n",
      "|   403|    171|\n",
      "|   404|  10056|\n",
      "|   500|      3|\n",
      "|   501|     27|\n",
      "+------+-------+\n",
      "\n"
     ]
    }
   ],
   "source": [
    "status_to_count_df = (logs_df\n",
    "                      .groupBy('status')\n",
    "                      .count()\n",
    "                      .sort('status')\n",
    "                      .cache())\n",
    "status_to_count_length = status_to_count_df.count()\n",
    "print('Found %d response codes'%status_to_count_length)\n",
    "status_to_count_df.show()\n",
    "assert status_to_count_length == 8"
   ]
  },
  {
   "cell_type": "markdown",
   "metadata": {},
   "source": [
    "### (3c) Example: Status Graphing\n",
    "The `matplotlib` library can give us more control in our plot and is also useful outside the Databricks environment. In this case, we're essentially just reproducing the Databricks graph using matplotlib. However, `matplotlib` exposes far more controls than the Databricks graph, allowing you to change colors, label the axes, and more. We're using a set of helper functions from the `spark_notebook_helpers` library.\n",
    "\n",
    "__ pip install spark_notebook_helpers __"
   ]
  },
  {
   "cell_type": "code",
   "execution_count": 25,
   "metadata": {
    "collapsed": true
   },
   "outputs": [],
   "source": [
    "# np is just an alias for numpy.\n",
    "# cm and plt are aliases for matplotlib.cm (for \"color map\") and matplotlib.pyplot, respectively.\n",
    "# prepareSubplot is a helper.\n",
    "from spark_notebook_helpers import prepareSubplot, np, plt, cm"
   ]
  },
  {
   "cell_type": "markdown",
   "metadata": {},
   "source": [
    "We're using the \"Set1\" color map. See the list of Qualitative Color Maps at http://matplotlib.org/examples/color/colormaps_reference.html for more details. Feel free to change the color map to a different one, like \"Accent\"."
   ]
  },
  {
   "cell_type": "code",
   "execution_count": 78,
   "metadata": {
    "collapsed": true
   },
   "outputs": [],
   "source": [
    "%matplotlib inline"
   ]
  },
  {
   "cell_type": "code",
   "execution_count": 98,
   "metadata": {},
   "outputs": [
    {
     "data": {
      "text/plain": [
       "[Row(status=200, log(count)=14.151259676055433),\n",
       " Row(status=302, log(count)=10.184786798018687),\n",
       " Row(status=304, log(count)=11.806684038040606),\n",
       " Row(status=400, log(count)=2.302585092994046),\n",
       " Row(status=403, log(count)=5.14166355650266),\n",
       " Row(status=404, log(count)=9.215924750270084),\n",
       " Row(status=500, log(count)=1.0986122886681098),\n",
       " Row(status=501, log(count)=3.295836866004329)]"
      ]
     },
     "execution_count": 98,
     "metadata": {},
     "output_type": "execute_result"
    }
   ],
   "source": [
    "log_status_to_count_df = status_to_count_df.withColumn('log(count)', sqlFunctions.log(status_to_count_df['count']))\n",
    "data = log_status_to_count_df.drop('count').collect()\n",
    "data"
   ]
  },
  {
   "cell_type": "code",
   "execution_count": 79,
   "metadata": {},
   "outputs": [
    {
     "data": {
      "image/png": "[encoded data removed]",
      "text/plain": [
       "<matplotlib.figure.Figure at 0x11c6f8a90>"
      ]
     },
     "metadata": {},
     "output_type": "display_data"
    }
   ],
   "source": [
    "log_status_to_count_df = status_to_count_df.withColumn('log(count)', sqlFunctions.log(status_to_count_df['count']))\n",
    "data = log_status_to_count_df.drop('count').collect()\n",
    "x, y = zip(*data)\n",
    "index = np.arange(len(x))\n",
    "bar_width = 0.7\n",
    "colorMap = 'Set1'\n",
    "cmap = cm.get_cmap(colorMap)\n",
    "fig, ax = prepareSubplot(np.arange(0, 6, 1), np.arange(0, 14, 2))\n",
    "plt.bar(index, y, width=bar_width, color=cmap(0))\n",
    "plt.xticks(index, x)\n",
    "fig.show()"
   ]
  },
  {
   "cell_type": "markdown",
   "metadata": {},
   "source": [
    "### (3d) Example: Frequent Hosts\n",
    "Let's look at hosts that have accessed the server frequently (e.g., more than ten times). As with the response code analysis in (3b), we create a new DataFrame by grouping `successLogsDF` by the 'host' column and aggregating by count.\n",
    "\n",
    "We then filter the result based on the count of accesses by each host being greater than ten. Then, we select the 'host' column and show 20 elements from the result."
   ]
  },
  {
   "cell_type": "code",
   "execution_count": 27,
   "metadata": {},
   "outputs": [
    {
     "name": "stdout",
     "output_type": "stream",
     "text": [
      "+-------------------------------+\n",
      "|host                           |\n",
      "+-------------------------------+\n",
      "|prakinf2.prakinf.tu-ilmenau.de |\n",
      "|alpha2.csd.uwm.edu             |\n",
      "|cjc07992.slip.digex.net        |\n",
      "|n1377004.ksc.nasa.gov          |\n",
      "|163.205.2.134                  |\n",
      "|huge.oso.chalmers.se           |\n",
      "|163.205.44.27                  |\n",
      "|shark.ksc.nasa.gov             |\n",
      "|etc5.etechcorp.com             |\n",
      "|dd07-029.compuserve.com        |\n",
      "|131.182.101.161                |\n",
      "|134.95.100.201                 |\n",
      "|vab08.larc.nasa.gov            |\n",
      "|ip11.iac.net                   |\n",
      "|ad11-012.compuserve.com        |\n",
      "|ad053.du.pipex.com             |\n",
      "|204.184.6.19                   |\n",
      "|p8.denver1.dialup.csn.net      |\n",
      "|gate2.gdc.com                  |\n",
      "|alcott.acsu.buffalo.edu        |\n",
      "+-------------------------------+\n",
      "only showing top 20 rows\n",
      "\n"
     ]
    }
   ],
   "source": [
    "# Any hosts that has accessed the server more than 10 times.\n",
    "host_sum_df = (logs_df\n",
    "               .groupBy('host')\n",
    "               .count())\n",
    "host_more_than_10_df = (host_sum_df\n",
    "                        .filter(host_sum_df['count']>10)\n",
    "                        .select(host_sum_df['host']))\n",
    "host_more_than_10_df.show(truncate=False)"
   ]
  },
  {
   "cell_type": "markdown",
   "metadata": {},
   "source": [
    "### (3e) Example: Visualizing Paths\n",
    "Now, let's visualize the number of hits to paths (URIs) in the log. To perform this task, we start with our `logs_df` and group by the `path` column, aggregate by `count`, and `sort` in descending order.\n",
    "\n",
    "Next we visualize the results using `matplotlib`. We previously imported the `prepareSubplot` function and the `matplotlib.pyplo`t library, so we do not need to import them again. We extract the endpoints and the counts, and unpack the resulting list of `Rows` using a `map` function and `lambda` expression."
   ]
  },
  {
   "cell_type": "code",
   "execution_count": 80,
   "metadata": {},
   "outputs": [
    {
     "data": {
      "image/png": "[encoded data removed]",
      "text/plain": [
       "<matplotlib.figure.Figure at 0x10f44f4d0>"
      ]
     },
     "metadata": {},
     "output_type": "display_data"
    }
   ],
   "source": [
    "paths_df = (logs_df\n",
    "            .groupBy('path')\n",
    "            .count()\n",
    "            .sort('count',ascending=False))\n",
    "paths_counts = (paths_df\n",
    "                .select('path', 'count')\n",
    "                .rdd.map(lambda r:(r[0],r[1]))\n",
    "                .collect())\n",
    "paths, counts = zip(*paths_counts)\n",
    "\n",
    "colorMap = 'Accent'\n",
    "cmap = cm.get_cmap(colorMap)\n",
    "index = np.arange(1000)\n",
    "\n",
    "fig, ax = prepareSubplot(np.arange(0, 1000, 100), np.arange(0, 70000, 10000))\n",
    "plt.xlabel('Paths')\n",
    "plt.ylabel('Number of Hits')\n",
    "plt.plot(index, counts[:1000], color=cmap(0), linewidth=3)\n",
    "plt.axhline(linewidth=2, color='#999999')\n",
    "fig.show()"
   ]
  },
  {
   "cell_type": "code",
   "execution_count": 81,
   "metadata": {},
   "outputs": [
    {
     "name": "stdout",
     "output_type": "stream",
     "text": [
      "+-----------------------------------------------+-----+\n",
      "|path                                           |count|\n",
      "+-----------------------------------------------+-----+\n",
      "|/images/NASA-logosmall.gif                     |97275|\n",
      "|/images/KSC-logosmall.gif                      |75283|\n",
      "|/images/MOSAIC-logosmall.gif                   |67356|\n",
      "|/images/USA-logosmall.gif                      |66975|\n",
      "|/images/WORLD-logosmall.gif                    |66351|\n",
      "|/images/ksclogo-medium.gif                     |62670|\n",
      "|/ksc.html                                      |43618|\n",
      "|/history/apollo/images/apollo-logo1.gif        |37806|\n",
      "|/images/launch-logo.gif                        |35119|\n",
      "|/                                              |30105|\n",
      "|/images/ksclogosmall.gif                       |27789|\n",
      "|/shuttle/missions/sts-69/mission-sts-69.html   |24592|\n",
      "|/shuttle/countdown/                            |24444|\n",
      "|/shuttle/missions/sts-69/count69.gif           |24363|\n",
      "|/shuttle/missions/sts-69/sts-69-patch-small.gif|23391|\n",
      "|/shuttle/missions/missions.html                |22429|\n",
      "|/images/launchmedium.gif                       |19863|\n",
      "|/htbin/cdt_main.pl                             |17238|\n",
      "|/shuttle/countdown/images/countclock.gif       |12154|\n",
      "|/icons/menu.xbm                                |12128|\n",
      "+-----------------------------------------------+-----+\n",
      "only showing top 20 rows\n",
      "\n"
     ]
    }
   ],
   "source": [
    "paths_df.show(truncate=False)"
   ]
  },
  {
   "cell_type": "markdown",
   "metadata": {},
   "source": [
    "### (3f) Example: Top Paths\n",
    "For the final example, we'll find the top paths (URIs) in the log. Because we sorted paths_df for plotting, all we need to do is call `.show()` and pass in `n=10` and `truncate=False` as the parameters to show the top ten paths without truncating."
   ]
  },
  {
   "cell_type": "code",
   "execution_count": 82,
   "metadata": {},
   "outputs": [
    {
     "name": "stdout",
     "output_type": "stream",
     "text": [
      "Top Ten Paths:\n",
      "+---------------------------------------+-----+\n",
      "|path                                   |count|\n",
      "+---------------------------------------+-----+\n",
      "|/images/NASA-logosmall.gif             |97275|\n",
      "|/images/KSC-logosmall.gif              |75283|\n",
      "|/images/MOSAIC-logosmall.gif           |67356|\n",
      "|/images/USA-logosmall.gif              |66975|\n",
      "|/images/WORLD-logosmall.gif            |66351|\n",
      "|/images/ksclogo-medium.gif             |62670|\n",
      "|/ksc.html                              |43618|\n",
      "|/history/apollo/images/apollo-logo1.gif|37806|\n",
      "|/images/launch-logo.gif                |35119|\n",
      "|/                                      |30105|\n",
      "+---------------------------------------+-----+\n",
      "only showing top 10 rows\n",
      "\n"
     ]
    },
    {
     "data": {
      "text/plain": [
       "[Row(path=u'/images/NASA-logosmall.gif', count=97275),\n",
       " Row(path=u'/images/KSC-logosmall.gif', count=75283),\n",
       " Row(path=u'/images/MOSAIC-logosmall.gif', count=67356),\n",
       " Row(path=u'/images/USA-logosmall.gif', count=66975),\n",
       " Row(path=u'/images/WORLD-logosmall.gif', count=66351),\n",
       " Row(path=u'/images/ksclogo-medium.gif', count=62670),\n",
       " Row(path=u'/ksc.html', count=43618),\n",
       " Row(path=u'/history/apollo/images/apollo-logo1.gif', count=37806),\n",
       " Row(path=u'/images/launch-logo.gif', count=35119),\n",
       " Row(path=u'/', count=30105)]"
      ]
     },
     "execution_count": 82,
     "metadata": {},
     "output_type": "execute_result"
    }
   ],
   "source": [
    "print('Top Ten Paths:')\n",
    "paths_df.show(truncate=False, n=10)\n",
    "\n",
    "paths_df.take(10)"
   ]
  },
  {
   "cell_type": "markdown",
   "metadata": {},
   "source": [
    "## Part 4: Analyzing Web Server Log File\n",
    "Now it is your turn to perform analyses on the web server log files."
   ]
  },
  {
   "cell_type": "markdown",
   "metadata": {},
   "source": [
    "### (4a) Exercise: Top Ten Error Endpoints\n",
    "What are the top ten endpoints which did not have return code 200? Create a sorted list containing the endpoints and the number of times that they were accessed with a non-200 return code and show the top ten.\n",
    "\n",
    "Think about the steps that you need to perform to determine which endpoints did not have a 200 return code, how you will uniquely count those endpoints and sort the list."
   ]
  },
  {
   "cell_type": "code",
   "execution_count": 83,
   "metadata": {},
   "outputs": [
    {
     "name": "stdout",
     "output_type": "stream",
     "text": [
      "+--------------------+--------------------+------+------------+--------------------+\n",
      "|                host|                path|status|content_size|                time|\n",
      "+--------------------+--------------------+------+------------+--------------------+\n",
      "|    uplherc.upl.com |                   /|   304|           0|1995-08-01 00:00:...|\n",
      "|    uplherc.upl.com |/images/ksclogo-m...|   304|           0|1995-08-01 00:00:...|\n",
      "|    uplherc.upl.com |/images/MOSAIC-lo...|   304|           0|1995-08-01 00:00:...|\n",
      "|    uplherc.upl.com |/images/USA-logos...|   304|           0|1995-08-01 00:00:...|\n",
      "|    uplherc.upl.com |/images/WORLD-log...|   304|           0|1995-08-01 00:00:...|\n",
      "|    uplherc.upl.com |/images/NASA-logo...|   304|           0|1995-08-01 00:00:...|\n",
      "|kgtyk4.kj.yamagat...|/images/NASA-logo...|   304|           0|1995-08-01 00:00:...|\n",
      "|kgtyk4.kj.yamagat...|/images/MOSAIC-lo...|   304|           0|1995-08-01 00:00:...|\n",
      "|kgtyk4.kj.yamagat...|/images/USA-logos...|   304|           0|1995-08-01 00:00:...|\n",
      "|kgtyk4.kj.yamagat...|/images/WORLD-log...|   304|           0|1995-08-01 00:00:...|\n",
      "+--------------------+--------------------+------+------------+--------------------+\n",
      "only showing top 10 rows\n",
      "\n",
      "Top 10 failed URLs: \n",
      "+----------------------------------------+-----+\n",
      "|path                                    |count|\n",
      "+----------------------------------------+-----+\n",
      "|/images/NASA-logosmall.gif              |19072|\n",
      "|/images/KSC-logosmall.gif               |11328|\n",
      "|/images/MOSAIC-logosmall.gif            |8617 |\n",
      "|/images/USA-logosmall.gif               |8565 |\n",
      "|/images/WORLD-logosmall.gif             |8360 |\n",
      "|/images/ksclogo-medium.gif              |7722 |\n",
      "|/history/apollo/images/apollo-logo1.gif |4355 |\n",
      "|/shuttle/countdown/images/countclock.gif|4227 |\n",
      "|/images/launch-logo.gif                 |4178 |\n",
      "|/                                       |3605 |\n",
      "+----------------------------------------+-----+\n",
      "only showing top 10 rows\n",
      "\n"
     ]
    }
   ],
   "source": [
    "from pyspark.sql.functions import desc\n",
    "not200DF = logs_df.filter(col('status')!=200)\n",
    "not200DF.show(n=10)\n",
    "logs_sum_df = (not200DF\n",
    "               .groupBy('path')\n",
    "               .count()\n",
    "               .orderBy(col('count').desc()))\n",
    "print('Top 10 failed URLs: ')\n",
    "logs_sum_df.show(truncate=False, n=10)"
   ]
  },
  {
   "cell_type": "markdown",
   "metadata": {},
   "source": [
    "### (4b) Exercise: Number of Unique Hosts\n",
    "How many unique hosts are there in the entire log?\n",
    "\n",
    "There are multiple ways to find this. Try to find a more optimal way than grouping by 'host'."
   ]
  },
  {
   "cell_type": "code",
   "execution_count": 84,
   "metadata": {},
   "outputs": [
    {
     "name": "stdout",
     "output_type": "stream",
     "text": [
      "Unique hosts: 75060\n"
     ]
    }
   ],
   "source": [
    "from pyspark.sql.functions import countDistinct\n",
    "unique_host_count = logs_df.agg(countDistinct(col('host'))).head()[0]\n",
    "print('Unique hosts: {0}'.format(unique_host_count))"
   ]
  },
  {
   "cell_type": "markdown",
   "metadata": {},
   "source": [
    "### (4c) Exercise: Number of Unique Daily Hosts\n",
    "For an advanced exercise, let's determine the number of unique hosts in the entire log on a day-by-day basis. This computation will give us counts of the number of unique daily hosts. We'd like a DataFrame sorted by increasing day of the month which includes the day of the month and the associated number of unique hosts for that day. Make sure you cache the resulting DataFrame `daily_hosts_df` so that we can reuse it in the next exercise.\n",
    "\n",
    "Think about the steps that you need to perform to count the number of different hosts that make requests each day. _Since the log only covers a single month, you can ignore the month._ You may want to use the `dayofmonth` function in the `pyspark.sql.functions` module.\n",
    "\n",
    "**Description of each variable**\n",
    "\n",
    "    day_to_host_pair_df\n",
    "    \n",
    "A DataFrame with two columns\n",
    "\n",
    "column | explanation\n",
    ":---|:---\n",
    "host\t|the host name\n",
    "day\t|the day of the month\n",
    "\n",
    "There will be one row in this DataFrame for each row in `logs_df`. Essentially, you're just trimming and transforming each row of `logs_df`. For example, for this row in `logs_df`:\n",
    "\n",
    "    gw1.att.com - - [23/Aug/1995:00:03:53 -0400] \"GET /shuttle/missions/sts-73/news HTTP/1.0\" 302 -\n",
    "\n",
    "your `day_to_host_pair_df` should have:\n",
    "\n",
    "    gw1.att.com 23\n",
    "\n",
    "#### something wrong\n",
    "\n",
    "    day_group_hosts_df\n",
    "\n",
    "This DataFrame has the same columns as `day_to_host_pair_df`, but with duplicate (`day`, `host`) rows removed.\n",
    "\n",
    "    daily_hosts_df\n",
    "    \n",
    "A DataFrame with two columns:\n",
    "\n",
    "column | explanation\n",
    ":---|:---\n",
    "day |\tthe day of the month\n",
    "count |\tthe number of unique requesting hosts for that day"
   ]
  },
  {
   "cell_type": "code",
   "execution_count": 34,
   "metadata": {},
   "outputs": [
    {
     "name": "stdout",
     "output_type": "stream",
     "text": [
      "Unique hosts per day:\n",
      "+---+-----+\n",
      "|day|count|\n",
      "+---+-----+\n",
      "|1  |2582 |\n",
      "|3  |3222 |\n",
      "|4  |4191 |\n",
      "|5  |2502 |\n",
      "|6  |2538 |\n",
      "|7  |4108 |\n",
      "|8  |4406 |\n",
      "|9  |4317 |\n",
      "|10 |4523 |\n",
      "|11 |4346 |\n",
      "|12 |2865 |\n",
      "|13 |2650 |\n",
      "|14 |4454 |\n",
      "|15 |4214 |\n",
      "|16 |4340 |\n",
      "|17 |4385 |\n",
      "|18 |4168 |\n",
      "|19 |2550 |\n",
      "|20 |2560 |\n",
      "|21 |4135 |\n",
      "|22 |4456 |\n",
      "|23 |4368 |\n",
      "|24 |4077 |\n",
      "|25 |4407 |\n",
      "|26 |2644 |\n",
      "|27 |2690 |\n",
      "|28 |4215 |\n",
      "|29 |4826 |\n",
      "|30 |5266 |\n",
      "|31 |5916 |\n",
      "+---+-----+\n",
      "\n"
     ]
    }
   ],
   "source": [
    "from pyspark.sql.functions import dayofmonth\n",
    "day_to_host_pair_df = (logs_df\n",
    "                       .select(col('host'), dayofmonth(col('time'))\n",
    "                       .alias('day')))\n",
    "day_group_hosts_df = day_to_host_pair_df.distinct()\n",
    "daily_hosts_df = (day_group_hosts_df\n",
    "                  .groupBy(col('day'))\n",
    "                  .count()\n",
    "                  .orderBy('day')\n",
    "                 )\n",
    "print('Unique hosts per day:')\n",
    "daily_hosts_df.show(truncate=False, n=30)"
   ]
  },
  {
   "cell_type": "markdown",
   "metadata": {},
   "source": [
    "### (4d) Exercise: Visualizing the Number of Unique Daily Hosts\n",
    "Using the results from the previous exercise, we will use `matplotlib` to plot a line graph of the unique hosts requests by day. We need a list of days called `days_with_hosts` and a list of the number of unique hosts for each corresponding day called `hosts`.\n",
    "\n",
    "**WARNING**: Simply calling `collect()` on your transformed DataFrame won't work, because `collect()` returns a list of Spark SQL `Row` objects. You must _extract_ the appropriate column values from the `Row` objects. Hint: A loop will help."
   ]
  },
  {
   "cell_type": "code",
   "execution_count": 85,
   "metadata": {},
   "outputs": [
    {
     "name": "stdout",
     "output_type": "stream",
     "text": [
      "[1, 3, 4, 5, 6, 7, 8, 9, 10, 11, 12, 13, 14, 15, 16, 17, 18, 19, 20, 21, 22, 23, 24, 25, 26, 27, 28, 29, 30, 31]\n",
      "[2582, 3222, 4191, 2502, 2538, 4108, 4406, 4317, 4523, 4346, 2865, 2650, 4454, 4214, 4340, 4385, 4168, 2550, 2560, 4135, 4456, 4368, 4077, 4407, 2644, 2690, 4215, 4826, 5266, 5916]\n"
     ]
    }
   ],
   "source": [
    "%matplotlib inline\n",
    "rows = daily_hosts_df.collect()\n",
    "days_with_hosts = daily_hosts_df.rdd.map(lambda r: r[0]).collect()\n",
    "hosts = daily_hosts_df.rdd.map(lambda r:r[1]).collect()\n",
    "print(days_with_hosts)\n",
    "print(hosts)"
   ]
  },
  {
   "cell_type": "code",
   "execution_count": 53,
   "metadata": {},
   "outputs": [
    {
     "data": {
      "image/png": "[encoded data removed]",
      "text/plain": [
       "<matplotlib.figure.Figure at 0x11bfa44d0>"
      ]
     },
     "metadata": {},
     "output_type": "display_data"
    }
   ],
   "source": [
    "max_host = max(hosts)\n",
    "max_day = max(days_with_hosts)\n",
    "\n",
    "fig, ax = prepareSubplot(np.arange(0, 30, 5), np.arange(0, 5000, 1000))\n",
    "colorMap = 'Dark2'\n",
    "cmap = cm.get_cmap(colorMap)\n",
    "plt.plot(days_with_hosts, hosts, color=cmap(0), linewidth=3)\n",
    "plt.axis([0, max_day, 0, max_host+500])\n",
    "plt.xlabel('Day')\n",
    "plt.ylabel('Hosts')\n",
    "plt.axhline(linewidth=3, color='#999999')\n",
    "plt.axvline(linewidth=2, color='#999999')\n",
    "fig.show()"
   ]
  },
  {
   "cell_type": "markdown",
   "metadata": {},
   "source": [
    "### (4e) Exercise: Average Number of Daily Requests per Host\n",
    "Next, let's determine the average number of requests on a day-by-day basis. We'd like a list by increasing day of the month and the associated average number of requests per host for that day. Make sure you cache the resulting DataFrame `avg_daily_req_per_host_df` so that we can reuse it in the next exercise.\n",
    "\n",
    "To compute the average number of requests per host, find the total number of requests per day (across all hosts) and divide that by the number of unique hosts per day (which we found in part 4c and cached as `daily_hosts_df`).\n",
    "\n",
    "_Since the log only covers a single month, you can skip checking for the month._"
   ]
  },
  {
   "cell_type": "code",
   "execution_count": 86,
   "metadata": {
    "scrolled": true
   },
   "outputs": [
    {
     "name": "stdout",
     "output_type": "stream",
     "text": [
      "Average number of daily requests per Hosts is :\n",
      "+---+-------------------------+\n",
      "|day|avg_reqs_per_host_per_day|\n",
      "+---+-------------------------+\n",
      "|  1|       13.166537567776917|\n",
      "|  3|       12.845437616387336|\n",
      "|  4|       14.210689572894298|\n",
      "|  5|       12.747002398081534|\n",
      "|  6|        12.77383766745469|\n",
      "|  7|         13.9634858812074|\n",
      "|  8|       13.653427144802542|\n",
      "|  9|        14.00463284688441|\n",
      "| 10|       13.541454786646032|\n",
      "| 11|       14.092498849516797|\n",
      "| 12|       13.288307155322862|\n",
      "| 13|       13.766037735849057|\n",
      "| 14|       13.443646160754378|\n",
      "| 15|       13.964641670621736|\n",
      "| 16|         13.0536866359447|\n",
      "| 17|       13.452223489167617|\n",
      "| 18|       13.494721689059501|\n",
      "| 19|       12.585882352941177|\n",
      "| 20|             12.876171875|\n",
      "| 21|         13.4316807738815|\n",
      "| 22|       12.962746858168762|\n",
      "| 23|       13.300595238095237|\n",
      "| 24|       12.889870002452783|\n",
      "| 25|       13.006807351940095|\n",
      "| 26|       11.954614220877458|\n",
      "| 27|        12.20185873605948|\n",
      "| 28|       13.166310794780546|\n",
      "| 29|       14.087857438872772|\n",
      "| 30|       15.313520698822636|\n",
      "| 31|       15.234110885733603|\n",
      "+---+-------------------------+\n",
      "\n"
     ]
    }
   ],
   "source": [
    "total_req_per_day_df = (logs_df\n",
    "                        .groupBy(dayofmonth(col('time')).alias('day'))\n",
    "                        .count())\n",
    "avg_daily_req_per_host_df = (total_req_per_day_df\n",
    "                             .join(daily_hosts_df, daily_hosts_df['day']==total_req_per_day_df['day'],'outer')\n",
    "                             .select(daily_hosts_df['day'],(total_req_per_day_df['count']/daily_hosts_df['count']).alias('avg_reqs_per_host_per_day')))\n",
    "print('Average number of daily requests per Hosts is :')\n",
    "avg_daily_req_per_host_df.sort('day').show(n=30)"
   ]
  },
  {
   "cell_type": "markdown",
   "metadata": {},
   "source": [
    "### (4f) Exercise: Visualizing the Average Daily Requests per Unique Host\n",
    "Using the `result avg_daily_req_per_host_df` from the previous exercise, use matplotlib to plot a line graph of the average daily requests per unique host by day.\n",
    "\n",
    "`days_with_avg` should be a list of days and `avgs` should be a list of average daily requests (as integers) per unique hosts for each corresponding day. Hint: You will need to extract these from the Dataframe in a similar way to part 4d."
   ]
  },
  {
   "cell_type": "code",
   "execution_count": 89,
   "metadata": {},
   "outputs": [
    {
     "name": "stdout",
     "output_type": "stream",
     "text": [
      "<type 'list'>\n",
      "[13.166537567776917, 12.845437616387336, 14.210689572894298, 12.747002398081534, 12.77383766745469, 13.9634858812074, 13.653427144802542, 14.00463284688441, 13.541454786646032, 14.092498849516797, 13.288307155322862, 13.766037735849057, 13.443646160754378, 13.964641670621736, 13.0536866359447, 13.452223489167617, 13.494721689059501, 12.585882352941177, 12.876171875, 13.4316807738815, 12.962746858168762, 13.300595238095237, 12.889870002452783, 13.006807351940095, 11.954614220877458, 12.20185873605948, 13.166310794780546, 14.087857438872772, 15.313520698822636, 15.234110885733603]\n"
     ]
    }
   ],
   "source": [
    "days_with_avg = avg_daily_req_per_host_df.orderBy('day').rdd.map(lambda r:r[0]).collect()\n",
    "avgs = avg_daily_req_per_host_df.orderBy('day').rdd.map(lambda r:r[1]).collect()\n",
    "print(days_with_avg)\n",
    "print(avgs)"
   ]
  },
  {
   "cell_type": "code",
   "execution_count": 56,
   "metadata": {},
   "outputs": [
    {
     "data": {
      "image/png": "[encoded data removed]",
      "text/plain": [
       "<matplotlib.figure.Figure at 0x11beb7dd0>"
      ]
     },
     "metadata": {},
     "output_type": "display_data"
    }
   ],
   "source": [
    "fig, ax = prepareSubplot(np.arange(0, 20, 5), np.arange(0, 16, 2))\n",
    "colorMap = 'Set3'\n",
    "cmap = cm.get_cmap(colorMap)\n",
    "plt.plot(days_with_avg, avgs, color=cmap(0), linewidth=3)\n",
    "plt.axis([0, max(days_with_avg), 0, max(avgs)+2])\n",
    "plt.xlabel('Day')\n",
    "plt.ylabel('Average')\n",
    "plt.axhline(linewidth=3, color='#999999')\n",
    "plt.axvline(linewidth=2, color='#999999')\n",
    "fig.show()"
   ]
  },
  {
   "cell_type": "markdown",
   "metadata": {},
   "source": [
    "## Part 5: Exploring 404 Status Codes\n",
    "Let's drill down and explore the error 404 status records. We've all seen those \"404 Not Found\" web pages. 404 errors are returned when the server cannot find the resource (page or object) the browser or client requested."
   ]
  },
  {
   "cell_type": "markdown",
   "metadata": {},
   "source": [
    "### (5a) Exercise: Counting 404 Response Codes\n",
    "Create a DataFrame containing only log records with a 404 status code. Make sure you `cache()` `not_found_df` as we will use it in the rest of this exercise.\n",
    "\n",
    "How many 404 records are in the log?"
   ]
  },
  {
   "cell_type": "code",
   "execution_count": 88,
   "metadata": {
    "scrolled": true
   },
   "outputs": [
    {
     "name": "stdout",
     "output_type": "stream",
     "text": [
      "Found 10056 404 URLs\n"
     ]
    }
   ],
   "source": [
    "not_found_df = logs_df.filter(col('status')==404).cache()\n",
    "print('Found {0} 404 URLs'.format(not_found_df.count()))"
   ]
  },
  {
   "cell_type": "markdown",
   "metadata": {},
   "source": [
    "### (5b) Exercise: Listing 404 Status Code Records\n",
    "Using the DataFrame containing only log records with a 404 status code that you cached in part (5a), print out a list up to 40 _distinct_ paths that generate 404 errors.\n",
    "\n",
    "**No path should appear more than once in your list.**"
   ]
  },
  {
   "cell_type": "code",
   "execution_count": 58,
   "metadata": {},
   "outputs": [
    {
     "name": "stdout",
     "output_type": "stream",
     "text": [
      "404 URLs: \n",
      "+--------------------------------------------------------------+\n",
      "|path                                                          |\n",
      "+--------------------------------------------------------------+\n",
      "|/shuttle/missions/sts-68/images/images.html                   |\n",
      "|/history/apollo/a-001/news/                                   |\n",
      "|/history/apollo/a-003/movies/                                 |\n",
      "|/CSMT_PageNS                                                  |\n",
      "|/missions/shuttle                                             |\n",
      "|/shuttle/technology/sts-newsref/stsret-newsref/stsref-toc.html|\n",
      "|/fia/projects/bayes-group/Atlas/Earth/                        |\n",
      "|/pub/wiinvn/win3/ww16_99_.zip                                 |\n",
      "|/public.win3/winvn                                            |\n",
      "|/shuttle/sts-1/sts-1-pa.jpg                                   |\n",
      "|/history/apollo/apollo/13                                     |\n",
      "|/shuttle/missions/sts-61-a/images/                            |\n",
      "|/nssdc.gsfc.nasa.gov                                          |\n",
      "|/mol/                                                         |\n",
      "|/comprod/at_work/images/wlcobanb.gif                          |\n",
      "|/uof.edu/                                                     |\n",
      "|/insert-name.html                                             |\n",
      "|/shuttle/technology/images/sts-comm-small.gif                 |\n",
      "|/shuttle/missions/sts-71/images/KSC-95EC-0916.txt             |\n",
      "|/shuttle/countdown/ac.html                                    |\n",
      "|/pub/winvn/docs                                               |\n",
      "|/IMAGES/RSS.GIF                                               |\n",
      "|/history/apollo/-apollo-13/apollo-3.html                      |\n",
      "|/shuttle/missions/sts-71/./video/livevideo.jpeg               |\n",
      "|/thunder                                                      |\n",
      "|/history/apollo/apollo-13/thumb/little_buzz.gif               |\n",
      "|/pub/winvn/readme.txt                                         |\n",
      "|/ksc.shtml                                                    |\n",
      "|/img/sportstalk3.gif                                          |\n",
      "|/home.html                                                    |\n",
      "|/shuttle/missions/sts-61a/mission-sts-61a.html                |\n",
      "|/shuttle/technology/sts-newsref/srb.html%23srb                |\n",
      "|/astronaut.*                                                  |\n",
      "|/history/apollo-12/apollo-12.html                             |\n",
      "|/elv/vidpicp.htlm                                             |\n",
      "|/sts-69                                                       |\n",
      "|/elv/cape.htm                                                 |\n",
      "|/history/apollo/sa-9/images/                                  |\n",
      "|/elv/FACILITIES/elvhead2.gif                                  |\n",
      "|/shuttle/missions/sts-86/mission-sts-86.html                  |\n",
      "+--------------------------------------------------------------+\n",
      "only showing top 40 rows\n",
      "\n"
     ]
    }
   ],
   "source": [
    "not_found_paths_df = not_found_df.select('path')\n",
    "unique_not_found_paths_df  = not_found_paths_df.distinct()\n",
    "print('404 URLs: ')\n",
    "unique_not_found_paths_df.show(truncate=False, n=40)"
   ]
  },
  {
   "cell_type": "markdown",
   "metadata": {},
   "source": [
    "### (5c) Exercise: Listing the Top Twenty 404 Response Code paths\n",
    "Using the DataFrame containing only log records with a 404 response code that you cached in part (5a), print out a list of the top twenty paths that generate the most 404 errors.\n",
    "\n",
    "_Remember, top endpoints should be in sorted order_"
   ]
  },
  {
   "cell_type": "code",
   "execution_count": 59,
   "metadata": {},
   "outputs": [
    {
     "name": "stdout",
     "output_type": "stream",
     "text": [
      "Top 20 404 URLs:\n",
      "+-----------------------------------------------------------------+-----+\n",
      "|path                                                             |count|\n",
      "+-----------------------------------------------------------------+-----+\n",
      "|/pub/winvn/readme.txt                                            |1337 |\n",
      "|/pub/winvn/release.txt                                           |1185 |\n",
      "|/shuttle/missions/STS-69/mission-STS-69.html                     |682  |\n",
      "|/images/nasa-logo.gif                                            |319  |\n",
      "|/shuttle/missions/sts-68/ksc-upclose.gif                         |251  |\n",
      "|/elv/DELTA/uncons.htm                                            |209  |\n",
      "|/history/apollo/sa-1/sa-1-patch-small.gif                        |200  |\n",
      "|/://spacelink.msfc.nasa.gov                                      |166  |\n",
      "|/images/crawlerway-logo.gif                                      |160  |\n",
      "|/history/apollo/a-001/a-001-patch-small.gif                      |154  |\n",
      "|/history/apollo/pad-abort-test-1/pad-abort-test-1-patch-small.gif|144  |\n",
      "|                                                                 |142  |\n",
      "|/images/Nasa-logo.gif                                            |85   |\n",
      "|/history/apollo/images/little-joe.jpg                            |84   |\n",
      "|/shuttle/resources/orbiters/discovery.gif                        |82   |\n",
      "|/shuttle/resources/orbiters/atlantis.gif                         |80   |\n",
      "|/shuttle/resources/orbiters/challenger.gif                       |77   |\n",
      "|/images/lf-logo.gif                                              |77   |\n",
      "|/robots.txt                                                      |77   |\n",
      "|/software/winvn/winvn.html.                                      |57   |\n",
      "+-----------------------------------------------------------------+-----+\n",
      "only showing top 20 rows\n",
      "\n"
     ]
    }
   ],
   "source": [
    "top_20_not_found_df = (not_found_paths_df\n",
    "                       .groupBy('path')\n",
    "                       .count()\n",
    "                       .orderBy(col('count').desc()))\n",
    "print('Top 20 404 URLs:')\n",
    "top_20_not_found_df.show(n=20, truncate=False)"
   ]
  },
  {
   "cell_type": "markdown",
   "metadata": {},
   "source": [
    "### (5d) Exercise: Listing the Top Twenty-five 404 Response Code Hosts\n",
    "Instead of looking at the paths that generated 404 errors, let's look at the hosts that encountered 404 errors. Using the DataFrame containing only log records with a 404 status codes that you cached in part (5a), print out a list of the top twenty-five hosts that generate the most 404 errors."
   ]
  },
  {
   "cell_type": "code",
   "execution_count": 60,
   "metadata": {},
   "outputs": [
    {
     "name": "stdout",
     "output_type": "stream",
     "text": [
      "Top 25 hosts that generated errors\n",
      "+---------------------------+-----+\n",
      "|host                       |count|\n",
      "+---------------------------+-----+\n",
      "|dialip-217.den.mmc.com     |62   |\n",
      "|piweba3y.prodigy.com       |47   |\n",
      "|155.148.25.4               |44   |\n",
      "|maz3.maz.net               |39   |\n",
      "|gate.barr.com              |38   |\n",
      "|204.62.245.32              |37   |\n",
      "|ts8-1.westwood.ts.ucla.edu |37   |\n",
      "|nexus.mlckew.edu.au        |37   |\n",
      "|m38-370-9.mit.edu          |37   |\n",
      "|scooter.pa-x.dec.com       |35   |\n",
      "|reddragon.ksc.nasa.gov     |33   |\n",
      "|www-c4.proxy.aol.com       |32   |\n",
      "|piweba5y.prodigy.com       |31   |\n",
      "|www-d4.proxy.aol.com       |30   |\n",
      "|piweba4y.prodigy.com       |30   |\n",
      "|internet-gw.watson.ibm.com |29   |\n",
      "|163.206.104.34             |28   |\n",
      "|unidata.com                |28   |\n",
      "|spica.sci.isas.ac.jp       |27   |\n",
      "|www-d2.proxy.aol.com       |26   |\n",
      "|203.13.168.17              |25   |\n",
      "|203.13.168.24              |25   |\n",
      "|www-d1.proxy.aol.com       |23   |\n",
      "|crl5.crl.com               |23   |\n",
      "|www-c2.proxy.aol.com       |23   |\n",
      "+---------------------------+-----+\n",
      "only showing top 25 rows\n",
      "\n"
     ]
    }
   ],
   "source": [
    "hosts_404_count_df = (not_found_df\n",
    "                      .groupBy('host')\n",
    "                      .count()\n",
    "                      .orderBy(col('count').desc()))\n",
    "print('Top 25 hosts that generated errors')\n",
    "hosts_404_count_df.show(n=25, truncate=False)"
   ]
  },
  {
   "cell_type": "markdown",
   "metadata": {},
   "source": [
    "### (5e) Exercise: Listing 404 Errors per Day\n",
    "Let's explore the 404 records temporally. Break down the 404 requests by day (cache the errors_by_date_sorted_df DataFrame) and get the daily counts sorted by day in `errors_by_date_sorted_df`.\n",
    "\n",
    "_Since the log only covers a single month, you can ignore the month in your checks._"
   ]
  },
  {
   "cell_type": "code",
   "execution_count": 61,
   "metadata": {},
   "outputs": [
    {
     "name": "stdout",
     "output_type": "stream",
     "text": [
      "404 errors by day:\n",
      "+---+-----+\n",
      "|day|count|\n",
      "+---+-----+\n",
      "|  1|  243|\n",
      "|  3|  304|\n",
      "|  4|  346|\n",
      "|  5|  236|\n",
      "|  6|  373|\n",
      "|  7|  537|\n",
      "|  8|  391|\n",
      "|  9|  279|\n",
      "| 10|  315|\n",
      "| 11|  263|\n",
      "| 12|  196|\n",
      "| 13|  216|\n",
      "| 14|  287|\n",
      "| 15|  327|\n",
      "| 16|  259|\n",
      "| 17|  271|\n",
      "| 18|  256|\n",
      "| 19|  209|\n",
      "| 20|  312|\n",
      "| 21|  305|\n",
      "| 22|  288|\n",
      "| 23|  345|\n",
      "| 24|  420|\n",
      "| 25|  415|\n",
      "| 26|  366|\n",
      "| 27|  370|\n",
      "| 28|  410|\n",
      "| 29|  420|\n",
      "| 30|  571|\n",
      "| 31|  526|\n",
      "+---+-----+\n",
      "\n"
     ]
    }
   ],
   "source": [
    "errors_by_date_sorted_df = (not_found_df\n",
    "                            .groupBy(dayofmonth('time').alias('day'))\n",
    "                            .count()\n",
    "                            .orderBy('day')\n",
    "                            .cache())\n",
    "print('404 errors by day:')\n",
    "errors_by_date_sorted_df.show(n=30)"
   ]
  },
  {
   "cell_type": "markdown",
   "metadata": {},
   "source": [
    "### (5f) Exercise: Visualizing the 404 Errors by Day\n",
    "Using the results from the previous exercise, use `matplotlib` to plot a line or bar graph of the 404 response codes by day.\n",
    "\n",
    "**Hint**: You'll need to use the same technique you used in (4f)."
   ]
  },
  {
   "cell_type": "code",
   "execution_count": 62,
   "metadata": {},
   "outputs": [
    {
     "name": "stdout",
     "output_type": "stream",
     "text": [
      "[1, 3, 4, 5, 6, 7, 8, 9, 10, 11, 12, 13, 14, 15, 16, 17, 18, 19, 20, 21, 22, 23, 24, 25, 26, 27, 28, 29, 30, 31]\n",
      "[243, 304, 346, 236, 373, 537, 391, 279, 315, 263, 196, 216, 287, 327, 259, 271, 256, 209, 312, 305, 288, 345, 420, 415, 366, 370, 410, 420, 571, 526]\n"
     ]
    }
   ],
   "source": [
    "days_with_errors_404 = errors_by_date_sorted_df.rdd.map(lambda r:r[0]).collect()\n",
    "errors_404_by_day = errors_by_date_sorted_df.rdd.map(lambda r:r[1]).collect()\n",
    "print(days_with_errors_404)\n",
    "print(errors_404_by_day)"
   ]
  },
  {
   "cell_type": "code",
   "execution_count": 63,
   "metadata": {},
   "outputs": [
    {
     "data": {
      "image/png": "[encoded data removed]",
      "text/plain": [
       "<matplotlib.figure.Figure at 0x11c3f6610>"
      ]
     },
     "metadata": {},
     "output_type": "display_data"
    }
   ],
   "source": [
    "fig, ax = prepareSubplot(np.arange(0, 20, 5), np.arange(0, 600, 100))\n",
    "colorMap = 'rainbow'\n",
    "cmap = cm.get_cmap(colorMap)\n",
    "plt.plot(days_with_errors_404, errors_404_by_day, color=cmap(0), linewidth=3)\n",
    "plt.axis([0, max(days_with_errors_404), 0, max(errors_404_by_day)])\n",
    "plt.xlabel('Day')\n",
    "plt.ylabel('404 Errors')\n",
    "plt.axhline(linewidth=3, color='#999999')\n",
    "plt.axvline(linewidth=2, color='#999999')\n",
    "fig.show()"
   ]
  },
  {
   "cell_type": "markdown",
   "metadata": {},
   "source": [
    "### (5g) Exercise: Top Five Days for 404 Errors\n",
    "Using the DataFrame `errors_by_date_sorted_df` you cached in the part (5e), what are the top five days for 404 errors and the corresponding counts of 404 errors?"
   ]
  },
  {
   "cell_type": "code",
   "execution_count": 64,
   "metadata": {},
   "outputs": [
    {
     "name": "stdout",
     "output_type": "stream",
     "text": [
      "Top five dates for 404 requests\n",
      "+---+-----+\n",
      "|day|count|\n",
      "+---+-----+\n",
      "| 30|  571|\n",
      "|  7|  537|\n",
      "| 31|  526|\n",
      "| 24|  420|\n",
      "| 29|  420|\n",
      "+---+-----+\n",
      "only showing top 5 rows\n",
      "\n"
     ]
    }
   ],
   "source": [
    "top_err_date_df = errors_by_date_sorted_df.orderBy(col('count').desc())\n",
    "print('Top five dates for 404 requests')\n",
    "top_err_date_df.show(5)"
   ]
  },
  {
   "cell_type": "markdown",
   "metadata": {},
   "source": [
    "### (5h) Exercise: Hourly 404 Errors\n",
    "Using the DataFrame `not_found_df` you cached in the part (5a) and sorting by hour of the day in increasing order, create a DataFrame containing the number of requests that had a 404 return code for each hour of the day (midnight starts at 0). Cache the resulting DataFrame `hour_records_sorted_df` and print that as a list."
   ]
  },
  {
   "cell_type": "code",
   "execution_count": 65,
   "metadata": {},
   "outputs": [
    {
     "name": "stdout",
     "output_type": "stream",
     "text": [
      "Top hours for 404 requests\n",
      "+----+-----+\n",
      "|hour|count|\n",
      "+----+-----+\n",
      "|   0|  344|\n",
      "|   1|  327|\n",
      "|   2|  600|\n",
      "|   3|  363|\n",
      "|   4|  183|\n",
      "|   5|  160|\n",
      "|   6|  135|\n",
      "|   7|  218|\n",
      "|   8|  340|\n",
      "|   9|  359|\n",
      "|  10|  492|\n",
      "|  11|  428|\n",
      "|  12|  651|\n",
      "|  13|  614|\n",
      "|  14|  522|\n",
      "|  15|  549|\n",
      "|  16|  550|\n",
      "|  17|  586|\n",
      "|  18|  425|\n",
      "|  19|  440|\n",
      "|  20|  432|\n",
      "|  21|  434|\n",
      "|  22|  430|\n",
      "|  23|  474|\n",
      "+----+-----+\n",
      "\n"
     ]
    }
   ],
   "source": [
    "from pyspark.sql.functions import hour\n",
    "hour_records_sorted_df = (not_found_df\n",
    "                          .groupBy(hour(col('time')).alias('hour'))\n",
    "                          .count()\n",
    "                          .orderBy('hour'))\n",
    "print('Top hours for 404 requests')\n",
    "hour_records_sorted_df.show(24)"
   ]
  },
  {
   "cell_type": "markdown",
   "metadata": {},
   "source": [
    "### (5i) Exercise: Visualizing the 404 Response Codes by Hour\n",
    "Using the results from the previous exercise, use `matplotlib` to plot a line or bar graph of the 404 response codes by hour."
   ]
  },
  {
   "cell_type": "code",
   "execution_count": 66,
   "metadata": {},
   "outputs": [
    {
     "name": "stdout",
     "output_type": "stream",
     "text": [
      "[0, 1, 2, 3, 4, 5, 6, 7, 8, 9, 10, 11, 12, 13, 14, 15, 16, 17, 18, 19, 20, 21, 22, 23]\n",
      "[344, 327, 600, 363, 183, 160, 135, 218, 340, 359, 492, 428, 651, 614, 522, 549, 550, 586, 425, 440, 432, 434, 430, 474]\n"
     ]
    }
   ],
   "source": [
    "hours_with_not_found = hour_records_sorted_df.rdd.map(lambda r:r[0]).collect()\n",
    "not_found_counts_per_hour = hour_records_sorted_df.rdd.map(lambda r:r[1]).collect()\n",
    "print(hours_with_not_found)\n",
    "print(not_found_counts_per_hour)"
   ]
  },
  {
   "cell_type": "code",
   "execution_count": 67,
   "metadata": {},
   "outputs": [
    {
     "data": {
      "image/png": "[encoded data removed]",
      "text/plain": [
       "<matplotlib.figure.Figure at 0x11c3f6410>"
      ]
     },
     "metadata": {},
     "output_type": "display_data"
    }
   ],
   "source": [
    "fig, ax = prepareSubplot(np.arange(0, 25, 5), np.arange(0, 500, 50))\n",
    "colorMap = 'seismic'\n",
    "cmap = cm.get_cmap(colorMap)\n",
    "plt.plot(hours_with_not_found, not_found_counts_per_hour, color=cmap(0), linewidth=3)\n",
    "plt.axis([0, max(hours_with_not_found), 0, max(not_found_counts_per_hour)])\n",
    "plt.xlabel('Hour')\n",
    "plt.ylabel('404 Errors')\n",
    "plt.axhline(linewidth=3, color='#999999')\n",
    "plt.axvline(linewidth=2, color='#999999')\n",
    "fig.show()"
   ]
  },
  {
   "cell_type": "code",
   "execution_count": null,
   "metadata": {
    "collapsed": true
   },
   "outputs": [],
   "source": []
  }
 ],
 "metadata": {
  "kernelspec": {
   "display_name": "Python 2",
   "language": "python",
   "name": "python2"
  },
  "language_info": {
   "codemirror_mode": {
    "name": "ipython",
    "version": 2
   },
   "file_extension": ".py",
   "mimetype": "text/x-python",
   "name": "python",
   "nbconvert_exporter": "python",
   "pygments_lexer": "ipython2",
   "version": "2.7.13"
  }
 },
 "nbformat": 4,
 "nbformat_minor": 2
}
