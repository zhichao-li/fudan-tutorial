{
 "cells": [
  {
   "cell_type": "markdown",
   "metadata": {},
   "source": [
    "<a rel=\"license\" href=\"http://creativecommons.org/licenses/by-nc-nd/4.0/\"><img alt=\"Creative Commons License\" style=\"border-width:0\" src=\"https://i.creativecommons.org/l/by-nc-nd/4.0/88x31.png\" align=\"left\" /></a><br><br/>This work is licensed under a <a rel=\"license\" href=\"http://creativecommons.org/licenses/by-nc-nd/4.0/\">Creative Commons Attribution-NonCommercial-NoDerivatives 4.0 International License</a>."
   ]
  },
  {
   "cell_type": "markdown",
   "metadata": {},
   "source": [
    "# ![Spark Logo](http://spark-mooc.github.io/web-assets/images/ta_Spark-logo-small.png) + ![Python Logo](http://spark-mooc.github.io/web-assets/images/python-logo-master-v3-TM-flattened_small.png)"
   ]
  },
  {
   "cell_type": "markdown",
   "metadata": {},
   "source": [
    "# Web Server Log Analysis with Apache Spark\n",
    "This lab will demonstrate how easy it is to perform web server log analysis with Apache Spark.\n",
    "\n",
    "Server log analysis is an ideal use case for Spark. It's a very large, common data source and contains a rich set of information. Spark allows you to store your logs in files on disk cheaply, while still providing a quick and simple way to perform data analysis on them. This homework will show you how to use Apache Spark on real-world text-based production logs and fully harness the power of that data. Log data comes from many sources, such as web, file, and compute servers, application logs, user-generated content, and can be used for monitoring servers, improving business and customer intelligence, building recommendation systems, fraud detection, and much more."
   ]
  },
  {
   "cell_type": "markdown",
   "metadata": {},
   "source": [
    "## How to complete this lab\n",
    "This lab is broken up into sections with bite-sized examples for demonstrating Spark functionality for log processing.\n",
    "\n",
    "It consists of 5 parts:\n",
    "* Part 1: Introduction and Imports\n",
    "* Part 2: Exploratory Data Analysis\n",
    "* Part 3: Analysis Walk-Through on the Web Server Log File\n",
    "* Part 4: Analyzing Web Server Log File\n",
    "* Part 5: Exploring 404 Response Codes"
   ]
  },
  {
   "cell_type": "markdown",
   "metadata": {},
   "source": [
    "## Part 1: Introduction and Imports\n",
    "### A note about DataFrame column references\n",
    "In Python, it's possible to access a DataFrame's columns either by attribute (`df.age`) or by indexing (`df['age']`). Referring to a column by attribute (`df.age`) is very Pandas-like, and it's highly convenient, especially when you're doing interactive data exploration. But it can fail, for reasons that aren't obvious. For example:"
   ]
  },
  {
   "cell_type": "code",
   "execution_count": 1,
   "metadata": {},
   "outputs": [
    {
     "data": {
      "text/plain": [
       "pyspark.sql.context.SQLContext"
      ]
     },
     "execution_count": 1,
     "metadata": {},
     "output_type": "execute_result"
    }
   ],
   "source": [
    "from pyspark.sql import SQLContext\n",
    "from pyspark.context import SparkContext\n",
    "sc = SparkContext.getOrCreate()\n",
    "sqlContext = SQLContext(sc)\n",
    "# Display the type of the Spark sqlContext\n",
    "type(sqlContext)"
   ]
  },
  {
   "cell_type": "code",
   "execution_count": null,
   "metadata": {
    "collapsed": true
   },
   "outputs": [],
   "source": [
    "throwaway_df = sqlContext.createDataFrame([('Anthony', 10), ('Julia', 20), ('Fred', 5)], ('name', 'count'))\n",
    "# throwaway_df.select(throwaway_df.count).show()"
   ]
  },
  {
   "cell_type": "markdown",
   "metadata": {},
   "source": [
    "To understand why that failed, you have to understand how the attribute-column syntax is implemented.\n",
    "\n",
    "When you type `throwaway_df.count`, Python looks for an existing attribute or method called `count` on the `throwaway_df` object. If it finds one, it uses it. Otherwise, it calls a special Python function (`__getattr__`), which defaults to throwing an exception. Spark has overridden `__getattr__` to look for a column on the DataFrame.\n",
    "\n",
    "**This means you can only use the attribute (dot) syntax to refer to a column if the DataFrame does not already have an attribute with the column's name.**\n",
    "\n",
    "In the above example, there's already a `count()` method on the `DataFrame` class, so `throwaway_df.count` does not refer to our \"count\" column; instead, it refers to the `count()` _method_.\n",
    "\n",
    "To avoid this problem, you can refer to the column using subscript notation: `throwaway_df['count']`. This syntax will _always_ work."
   ]
  },
  {
   "cell_type": "code",
   "execution_count": null,
   "metadata": {
    "collapsed": true
   },
   "outputs": [],
   "source": [
    "throwaway_df.select(throwaway_df['count']).show()"
   ]
  },
  {
   "cell_type": "markdown",
   "metadata": {},
   "source": [
    "### (1a) Library imports\n",
    "We can import standard Python libraries ([modules](https://docs.python.org/2/tutorial/modules.html)) the usual way. An `import` statement will import the specified module. In this lab, we will provide any imports that are necessary.\n",
    "\n",
    "Let's import some of the libraries we'll need:\n",
    "* re: The regular expression library\n",
    "* datetime: Date and time functions"
   ]
  },
  {
   "cell_type": "code",
   "execution_count": null,
   "metadata": {
    "collapsed": true
   },
   "outputs": [],
   "source": [
    "import re\n",
    "import datetime\n",
    "\n",
    "#Quick test of regular expression library\n",
    "m = re.search('(?<=abc)def', 'abcdef')\n",
    "print(m.group(0))\n",
    "\n",
    "#Quick test of the datetime library\n",
    "print('This was last run on: {0}'.format(datetime.datetime.now()))"
   ]
  },
  {
   "cell_type": "markdown",
   "metadata": {},
   "source": [
    "### (1b) Getting help\n",
    "Remember: There are some useful Python built-ins for getting help.\n",
    "\n",
    "You can use Python's `dir()` function to get a list of all the attributes (including methods) accessible through the `sqlContext` object."
   ]
  },
  {
   "cell_type": "code",
   "execution_count": null,
   "metadata": {
    "collapsed": true,
    "scrolled": true
   },
   "outputs": [],
   "source": [
    "# List sqlContext's attributes\n",
    "dir(sqlContext)"
   ]
  },
  {
   "cell_type": "markdown",
   "metadata": {},
   "source": [
    "Alternatively, you can use Python's `help()` function to get an easier to read list of all the attributes, including examples, that the sqlContext object has."
   ]
  },
  {
   "cell_type": "code",
   "execution_count": null,
   "metadata": {
    "collapsed": true
   },
   "outputs": [],
   "source": [
    "# Use help to obtain more detailed information\n",
    "help(sqlContext)"
   ]
  },
  {
   "cell_type": "code",
   "execution_count": null,
   "metadata": {
    "collapsed": true
   },
   "outputs": [],
   "source": [
    "# Help can be used on any Python object\n",
    "help(map)"
   ]
  },
  {
   "cell_type": "markdown",
   "metadata": {},
   "source": [
    "## Part 2: Exploratory Data Analysis\n",
    "Let's begin looking at our data. For this lab, we will use a data set from NASA Kennedy Space Center web server in Florida. The full data set is freely available at http://ita.ee.lbl.gov/html/contrib/NASA-HTTP.html, and it contains all HTTP requests for two months. We are using a subset that only contains several days' worth of requests. The log file has already been downloaded for you."
   ]
  },
  {
   "cell_type": "code",
   "execution_count": null,
   "metadata": {
    "collapsed": true
   },
   "outputs": [],
   "source": [
    "import sys\n",
    "import os\n",
    "# log_file_path = 'hdfs:/' + os.path.join('user', 'root', 'apache.access.log.PROJECT')\n",
    "log_file_path = \"./access_log_Aug95\""
   ]
  },
  {
   "cell_type": "markdown",
   "metadata": {},
   "source": [
    "### (2a) Loading the log file\n",
    "Now that we have the path to the file, let's load it into a DataFrame. We'll do this in steps. First, we'll use `sqlContext.read.text()` to read the text file. This will produce a DataFrame with a single string column called value."
   ]
  },
  {
   "cell_type": "code",
   "execution_count": null,
   "metadata": {
    "collapsed": true
   },
   "outputs": [],
   "source": [
    "base_df = sqlContext.read.text(log_file_path)\n",
    "base_df.printSchema()"
   ]
  },
  {
   "cell_type": "markdown",
   "metadata": {},
   "source": [
    "Let's take a look at some of the data."
   ]
  },
  {
   "cell_type": "code",
   "execution_count": null,
   "metadata": {
    "collapsed": true
   },
   "outputs": [],
   "source": [
    "base_df.show(truncate=False)"
   ]
  },
  {
   "cell_type": "code",
   "execution_count": null,
   "metadata": {
    "collapsed": true
   },
   "outputs": [],
   "source": [
    "base_df.count()"
   ]
  },
  {
   "cell_type": "markdown",
   "metadata": {},
   "source": [
    "### (2b) Parsing the log file"
   ]
  },
  {
   "cell_type": "markdown",
   "metadata": {},
   "source": [
    "If you're familiar with web servers at all, you'll recognize that this is in [Common Log Format](https://www.w3.org/Daemon/User/Config/Logging.html#common-logfile-format). The fields are:\n",
    "    \n",
    "    remotehost rfc931 authuser [date] \"request\" status bytes\n",
    "    \n",
    "field | meaning \n",
    ":---|:---\n",
    "`remotehost` | Remote hostname (or IP number if DNS hostname is not available).\n",
    "`rfc931` | The remote logname of the user. We don't really care about this field.\n",
    "`authuser` | The username of the remote user, as authenticated by the HTTP server.\n",
    "`[date]` | The date and time of the request.\n",
    "`\"request\"`| The request, exactly as it came from the browser or client.\n",
    "`status` | The HTTP status code the server sent back to the client.\n",
    "`bytes` | The number of bytes (Content-Length) transferred to the client.\n",
    "\n",
    "Next, we have to parse it into individual columns. We'll use the special built-in [regexp_extract()](http://spark.apache.org/docs/latest/api/python/pyspark.sql.html#pyspark.sql.functions.regexp_extract) function to do the parsing. This function matches a column against a regular expression with one or more [capture groups](http://regexone.com/lesson/capturing_groups) and allows you to extract one of the matched groups. We'll use one regular expression for each field we wish to extract.\n",
    "\n",
    "If you can't read these regular expressions, don't worry. Trust us: They work. If you find regular expressions confusing (and they certainly can be), and you want to learn more about them, start with the [RegexOne web site](http://regexone.com/). You might also find [Regular Expressions Cookbook](http://shop.oreilly.com/product/0636920023630.do), by Jan Goyvaerts and Steven Levithan, to be helpful.\n",
    "\n",
    "Some people, when confronted with a problem, think \"I know, I'll use regular expressions.\" Now they have two problems. (attributed to Jamie Zawinski)"
   ]
  },
  {
   "cell_type": "code",
   "execution_count": null,
   "metadata": {
    "collapsed": true,
    "scrolled": true
   },
   "outputs": [],
   "source": [
    "from pyspark.sql.functions import split, regexp_extract\n",
    "split_df = base_df.select(regexp_extract('value', r'^([^\\s]+\\s)', 1).alias('host'),\n",
    "                          regexp_extract('value', r'^.*\\[(\\d\\d/\\w{3}/\\d{4}:\\d{2}:\\d{2}:\\d{2} -\\d{4})]', 1).alias('timestamp'),\n",
    "                          regexp_extract('value', r'^.*\"\\w+\\s+([^\\s]+)\\s+HTTP.*\"', 1).alias('path'),\n",
    "                          regexp_extract('value', r'^.*\"\\s+([^\\s]+)', 1).cast('integer').alias('status'),\n",
    "                          regexp_extract('value', r'^.*\\s+(\\d+)$', 1).cast('integer').alias('content_size')).dropna(subset='status')\n",
    "split_df.show(truncate=False)"
   ]
  },
  {
   "cell_type": "markdown",
   "metadata": {},
   "source": [
    "### (2c) Data Cleaning\n",
    "Let's see how well our parsing logic worked. First, let's verify that there are no null rows in the original data set."
   ]
  },
  {
   "cell_type": "code",
   "execution_count": null,
   "metadata": {
    "collapsed": true
   },
   "outputs": [],
   "source": [
    "base_df.filter(base_df['value'].isNull()).count()"
   ]
  },
  {
   "cell_type": "markdown",
   "metadata": {},
   "source": [
    "If our parsing worked properly, we'll have no rows with null column values. Let's check."
   ]
  },
  {
   "cell_type": "code",
   "execution_count": null,
   "metadata": {
    "collapsed": true,
    "scrolled": true
   },
   "outputs": [],
   "source": [
    "bad_rows_df = split_df.filter(split_df['host'].isNull() |\n",
    "                              split_df['timestamp'].isNull() |\n",
    "                              split_df['path'].isNull() |\n",
    "                              split_df['status'].isNull() |\n",
    "                              split_df['content_size'].isNull()\n",
    "                              )\n",
    "bad_rows_df.count()"
   ]
  },
  {
   "cell_type": "markdown",
   "metadata": {},
   "source": [
    "Not good. We have some null values. Something went wrong. Which columns are affected?\n",
    "\n",
    "(Note: This approach is adapted from an [excellent answer](http://stackoverflow.com/a/33901312) on StackOverflow.)"
   ]
  },
  {
   "cell_type": "code",
   "execution_count": null,
   "metadata": {
    "collapsed": true
   },
   "outputs": [],
   "source": [
    "from pyspark.sql.functions import col, sum\n",
    "def count_null(col_name):\n",
    "    return sum(col(col_name).isNull().cast('integer')).alias(col_name)\n",
    "exprs = [count_null(col_name) for col_name in split_df.columns]\n",
    "split_df.agg(*exprs).show()"
   ]
  },
  {
   "cell_type": "markdown",
   "metadata": {},
   "source": [
    "Okay, they're all in the content_size column. Let's see if we can figure out what's wrong. Our original parsing regular expression for that column was:\n",
    "```python\n",
    "regexp_extract('value', r'^.*\\s+(\\d+)$', 1).cast('integer').alias('content_size')\n",
    "```\n",
    "The `\\d+` selects one or more digits at the end of the input line. Is it possible there are lines without a valid content size? Or is there something wrong with our regular expression? Let's see if there are any lines that do not end with one or more digits.\n",
    "\n",
    "**Note**: In the expression below, `~` means \"not\"."
   ]
  },
  {
   "cell_type": "code",
   "execution_count": null,
   "metadata": {
    "collapsed": true
   },
   "outputs": [],
   "source": [
    "bad_content_size_df = base_df.filter(~ base_df['value'].rlike(r'\\d+$'))\n",
    "bad_content_size_df.count()"
   ]
  },
  {
   "cell_type": "markdown",
   "metadata": {},
   "source": [
    "That's it! The count matches the number of rows in `bad_rows_df` exactly.\n",
    "\n",
    "Let's take a look at some of the bad column values. Since it's possible that the rows end in extra white space, we'll tack a marker character onto the end of each line, to make it easier to see trailing white space."
   ]
  },
  {
   "cell_type": "code",
   "execution_count": null,
   "metadata": {
    "collapsed": true
   },
   "outputs": [],
   "source": [
    "from pyspark.sql.functions import lit, concat\n",
    "bad_content_size_df.select(concat(bad_content_size_df['value'], lit('*'))).show(truncate=False)"
   ]
  },
  {
   "cell_type": "markdown",
   "metadata": {},
   "source": [
    "Ah. The bad rows correspond to error results, where no content was sent back and the server emitted a \"`-`\" for the `content_size` field. Since we don't want to discard those rows from our analysis, let's map them to 0."
   ]
  },
  {
   "cell_type": "markdown",
   "metadata": {},
   "source": [
    "### (2d) Fix the rows with null content_size\n",
    "The easiest solution is to replace the null values in split_df with 0. The DataFrame API provides a set of functions and fields specifically designed for working with null values, among them:\n",
    "* `fillna()`, which fills null values with specified non-null values.\n",
    "* na, which returns a DataFrameNaFunctions object with many functions for operating on null columns.\n",
    "\n",
    "We'll use `fillna()`, because it's simple. There are several ways to invoke this function. The easiest is just to replace all null columns with known values. But, for safety, it's better to pass a Python dictionary containing (column_name, value) mappings. That's what we'll do."
   ]
  },
  {
   "cell_type": "code",
   "execution_count": null,
   "metadata": {
    "collapsed": true
   },
   "outputs": [],
   "source": [
    "# Replace all null content_size values with 0.\n",
    "cleaned_df = split_df.na.fill({'content_size': 0})\n",
    "# Ensure that there are no nulls left.\n",
    "exprs = [count_null(col_name) for col_name in cleaned_df.columns]\n",
    "cleaned_df.agg(*exprs).show()"
   ]
  },
  {
   "cell_type": "markdown",
   "metadata": {},
   "source": [
    "### (2e) Parsing the timestamp\n",
    "Okay, now that we have a clean, parsed DataFrame, we have to parse the timestamp field into an actual timestamp. The Common Log Format time is somewhat non-standard. A User-Defined Function (UDF) is the most straightforward way to parse it."
   ]
  },
  {
   "cell_type": "code",
   "execution_count": null,
   "metadata": {
    "collapsed": true
   },
   "outputs": [],
   "source": [
    "from pyspark.sql.functions import udf\n",
    "\n",
    "month_map = {\n",
    "    'Jan': 1, 'Feb': 2, 'Mar': 3, 'Apr': 4, 'May': 5, 'Jun': 6,\n",
    "    'Jul': 7, 'Aug': 8, 'Sep': 9, 'Oct': 10, 'Nov': 11, 'Dec': 12\n",
    "}\n",
    "\n",
    "def parse_clf_time(s):\n",
    "    return \"{0:02d}-{1:02d}-{2:04d} {3:02d}:{4:02d}:{5:02d}\".format(\n",
    "        int(s[7:11]),\n",
    "        month_map[s[3:6]],\n",
    "        int(s[0:2]),\n",
    "        int(s[12:14]),\n",
    "        int(s[15:17]),\n",
    "        int(s[18:20])\n",
    "    )\n",
    "\n",
    "u_parse_time = udf(parse_clf_time)\n",
    "logs_df = cleaned_df.select('*', u_parse_time(split_df['timestamp']).cast('timestamp').alias('time')).drop('timestamp')\n",
    "total_log_entries = logs_df.count()\n",
    "\n",
    "logs_df.printSchema()"
   ]
  },
  {
   "cell_type": "markdown",
   "metadata": {},
   "source": [
    "Let's cache `logs_df`. We're going to be using it quite a bit from here forward."
   ]
  },
  {
   "cell_type": "code",
   "execution_count": null,
   "metadata": {
    "collapsed": true
   },
   "outputs": [],
   "source": [
    "logs_df.show(truncate=True)\n",
    "print(total_log_entries)\n",
    "logs_df.cache()"
   ]
  },
  {
   "cell_type": "markdown",
   "metadata": {},
   "source": [
    "## Part 3: Analysis Walk-Through on the Web Server Log File\n",
    "Now that we have a DataFrame containing the parsed log file as a set of Row objects, we can perform various analyses."
   ]
  },
  {
   "cell_type": "markdown",
   "metadata": {},
   "source": [
    "### (3a) Example: Content Size Statistics\n",
    "Let's compute some statistics about the sizes of content being returned by the web server. In particular, we'd like to know what are the average, minimum, and maximum content sizes.\n",
    "\n",
    "We can compute the statistics by calling `.describe()` on the `content_size` column of `logs_df`. The `.describe()` function returns the count, mean, stddev, min, and max of a given column."
   ]
  },
  {
   "cell_type": "code",
   "execution_count": null,
   "metadata": {
    "collapsed": true
   },
   "outputs": [],
   "source": [
    "content_size_summary_df = logs_df.describe(['content_size'])\n",
    "content_size_summary_df.show()"
   ]
  },
  {
   "cell_type": "markdown",
   "metadata": {},
   "source": [
    "Alternatively, we can use SQL to directly calculate these statistics. You can explore the many useful functions within the `pyspark.sql.functions` module in the [documentation](https://spark.apache.org/docs/latest/api/python/pyspark.sql.html#module-pyspark.sql.functions).\n",
    "\n",
    "After we apply the `.agg()` function, we call `.first()` to extract the first value, which is equivalent to `.take(1)[0]`."
   ]
  },
  {
   "cell_type": "code",
   "execution_count": null,
   "metadata": {
    "collapsed": true
   },
   "outputs": [],
   "source": [
    "from pyspark.sql import functions as sqlFunctions\n",
    "content_size_stats = (logs_df\n",
    "                      .agg(sqlFunctions.min(logs_df['content_size']),\n",
    "                           sqlFunctions.avg(logs_df['content_size']),\n",
    "                           sqlFunctions.max(logs_df['content_size']))\n",
    "                      .first())\n",
    "\n",
    "print('Using SQL Functions: ')\n",
    "print('Content Size Avg: {1:,.2f}; Min: {0:,.2f}; Max: {2:,.0f}'.format(*content_size_stats))"
   ]
  },
  {
   "cell_type": "markdown",
   "metadata": {},
   "source": [
    "### (3b) Example: HTTP Status Analysis\n",
    "Next, let's look at the status values that appear in the log. We want to know which status values appear in the data and how many times. We again start with `logs_df`, then group by the `status` column, apply the `.count()` aggregation function, and sort by the `status` column."
   ]
  },
  {
   "cell_type": "code",
   "execution_count": null,
   "metadata": {
    "collapsed": true
   },
   "outputs": [],
   "source": [
    "status_to_count_df = (logs_df\n",
    "                      .groupBy('status')\n",
    "                      .count()\n",
    "                      .sort('status')\n",
    "                      .cache())\n",
    "status_to_count_length = status_to_count_df.count()\n",
    "print('Found %d response codes'%status_to_count_length)\n",
    "status_to_count_df.show()\n",
    "assert status_to_count_length == 7\n",
    "assert status_to_count_df.take(100) == [(200, 940847), (302, 16244), (304, 79824), (403, 58), (404, 6185), (500, 2), (501, 17)]"
   ]
  },
  {
   "cell_type": "markdown",
   "metadata": {},
   "source": [
    "### (3c) Example: Status Graphing\n",
    "The `matplotlib` library can give us more control in our plot and is also useful outside the Databricks environment. In this case, we're essentially just reproducing the Databricks graph using matplotlib. However, `matplotlib` exposes far more controls than the Databricks graph, allowing you to change colors, label the axes, and more. We're using a set of helper functions from the `spark_notebook_helpers` library."
   ]
  },
  {
   "cell_type": "code",
   "execution_count": null,
   "metadata": {
    "collapsed": true
   },
   "outputs": [],
   "source": [
    "# np is just an alias for numpy.\n",
    "# cm and plt are aliases for matplotlib.cm (for \"color map\") and matplotlib.pyplot, respectively.\n",
    "# prepareSubplot is a helper.\n",
    "from spark_notebook_helpers import prepareSubplot, np, plt, cm"
   ]
  },
  {
   "cell_type": "markdown",
   "metadata": {},
   "source": [
    "We're using the \"Set1\" color map. See the list of Qualitative Color Maps at http://matplotlib.org/examples/color/colormaps_reference.html for more details. Feel free to change the color map to a different one, like \"Accent\"."
   ]
  },
  {
   "cell_type": "code",
   "execution_count": null,
   "metadata": {
    "collapsed": true
   },
   "outputs": [],
   "source": [
    "log_status_to_count_df = status_to_count_df.withColumn('log(count)', sqlFunctions.log(status_to_count_df['count']))\n",
    "data = log_status_to_count_df.drop('count').collect()\n",
    "x, y = zip(*data)\n",
    "index = np.arange(len(x))\n",
    "bar_width = 0.7\n",
    "colorMap = 'Set1'\n",
    "cmap = cm.get_cmap(colorMap)\n",
    "fig, ax = prepareSubplot(np.arange(0, 6, 1), np.arange(0, 14, 2))\n",
    "plt.bar(index, y, width=bar_width, color=cmap(0))\n",
    "plt.xticks(index, x)\n",
    "fig.show()"
   ]
  },
  {
   "cell_type": "markdown",
   "metadata": {},
   "source": [
    "### (3d) Example: Frequent Hosts\n",
    "Let's look at hosts that have accessed the server frequently (e.g., more than ten times). As with the response code analysis in (3b), we create a new DataFrame by grouping `successLogsDF` by the 'host' column and aggregating by count.\n",
    "\n",
    "We then filter the result based on the count of accesses by each host being greater than ten. Then, we select the 'host' column and show 20 elements from the result."
   ]
  },
  {
   "cell_type": "code",
   "execution_count": null,
   "metadata": {
    "collapsed": true
   },
   "outputs": [],
   "source": [
    "# Any hosts that has accessed the server more than 10 times.\n",
    "host_sum_df = (logs_df\n",
    "               .groupBy('host')\n",
    "               .count())\n",
    "host_more_than_10_df = (host_sum_df\n",
    "                        .filter(host_sum_df['count']>10)\n",
    "                        .select(host_sum_df['host']))\n",
    "host_more_than_10_df.show(truncate=False)"
   ]
  },
  {
   "cell_type": "markdown",
   "metadata": {},
   "source": [
    "### (3e) Example: Visualizing Paths\n",
    "Now, let's visualize the number of hits to paths (URIs) in the log. To perform this task, we start with our `logs_df` and group by the `path` column, aggregate by `count`, and `sort` in descending order.\n",
    "\n",
    "Next we visualize the results using `matplotlib`. We previously imported the `prepareSubplot` function and the `matplotlib.pyplo`t library, so we do not need to import them again. We extract the endpoints and the counts, and unpack the resulting list of `Rows` using a `map` function and `lambda` expression."
   ]
  },
  {
   "cell_type": "code",
   "execution_count": null,
   "metadata": {
    "collapsed": true
   },
   "outputs": [],
   "source": [
    "paths_df = (logs_df\n",
    "            .groupBy('path')\n",
    "            .count()\n",
    "            .sort('count',ascending=False))\n",
    "paths_counts = (paths_df\n",
    "                .select('path', 'count')\n",
    "                .rdd.map(lambda r:(r[0],r[1]))\n",
    "                .collect())\n",
    "paths, counts = zip(*paths_counts)\n",
    "\n",
    "colorMap = 'Accent'\n",
    "cmap = cm.get_cmap(colorMap)\n",
    "index = np.arange(1000)\n",
    "\n",
    "fig, ax = prepareSubplot(np.arange(0, 1000, 100), np.arange(0, 70000, 10000))\n",
    "plt.xlabel('Paths')\n",
    "plt.ylabel('Number of Hits')\n",
    "plt.plot(index, counts[:1000], color=cmap(0), linewidth=3)\n",
    "plt.axhline(linewidth=2, color='#999999')\n",
    "fig.show()"
   ]
  },
  {
   "cell_type": "code",
   "execution_count": null,
   "metadata": {
    "collapsed": true
   },
   "outputs": [],
   "source": [
    "paths_df.show(truncate=False)"
   ]
  },
  {
   "cell_type": "markdown",
   "metadata": {},
   "source": [
    "### (3f) Example: Top Paths\n",
    "For the final example, we'll find the top paths (URIs) in the log. Because we sorted paths_df for plotting, all we need to do is call `.show()` and pass in `n=10` and `truncate=False` as the parameters to show the top ten paths without truncating."
   ]
  },
  {
   "cell_type": "code",
   "execution_count": null,
   "metadata": {
    "collapsed": true
   },
   "outputs": [],
   "source": [
    "print('Top Ten Paths:')\n",
    "paths_df.show(truncate=False, n=10)\n",
    "\n",
    "expected = [\n",
    "  (u'/images/NASA-logosmall.gif', 59666),\n",
    "  (u'/images/KSC-logosmall.gif', 50420),\n",
    "  (u'/images/MOSAIC-logosmall.gif', 43831),\n",
    "  (u'/images/USA-logosmall.gif', 43604),\n",
    "  (u'/images/WORLD-logosmall.gif', 43217),\n",
    "  (u'/images/ksclogo-medium.gif', 41267),\n",
    "  (u'/ksc.html', 28536),\n",
    "  (u'/history/apollo/images/apollo-logo1.gif', 26766),\n",
    "  (u'/images/launch-logo.gif', 24742),\n",
    "  (u'/', 20173)\n",
    "]\n",
    "assert paths_df.take(10) == expected, 'incorrect Top Ten Paths'"
   ]
  },
  {
   "cell_type": "markdown",
   "metadata": {},
   "source": [
    "## Part 4: Analyzing Web Server Log File\n",
    "Now it is your turn to perform analyses on the web server log files."
   ]
  },
  {
   "cell_type": "markdown",
   "metadata": {},
   "source": [
    "### (4a) Exercise: Top Ten Error Endpoints\n",
    "What are the top ten endpoints which did not have return code 200? Create a sorted list containing the endpoints and the number of times that they were accessed with a non-200 return code and show the top ten.\n",
    "\n",
    "Think about the steps that you need to perform to determine which endpoints did not have a 200 return code, how you will uniquely count those endpoints and sort the list."
   ]
  },
  {
   "cell_type": "code",
   "execution_count": null,
   "metadata": {
    "collapsed": true
   },
   "outputs": [],
   "source": [
    "from pyspark.sql.functions import desc\n",
    "not200DF = logs_df.filter(col('status')!=200)\n",
    "not200DF.show(n=10)\n",
    "logs_sum_df = (not200DF\n",
    "               .groupBy('path')\n",
    "               .count()\n",
    "               .orderBy(col('count').desc()))\n",
    "print('Top 10 failed URLs: ')\n",
    "logs_sum_df.show(truncate=False, n=10)"
   ]
  },
  {
   "cell_type": "markdown",
   "metadata": {},
   "source": [
    "### (4b) Exercise: Number of Unique Hosts\n",
    "How many unique hosts are there in the entire log?\n",
    "\n",
    "There are multiple ways to find this. Try to find a more optimal way than grouping by 'host'."
   ]
  },
  {
   "cell_type": "code",
   "execution_count": null,
   "metadata": {
    "collapsed": true
   },
   "outputs": [],
   "source": [
    "from pyspark.sql.functions import countDistinct\n",
    "unique_host_count = logs_df.agg(countDistinct(col('host'))).head()[0]\n",
    "print('Unique hosts: {0}'.format(unique_host_count))"
   ]
  },
  {
   "cell_type": "markdown",
   "metadata": {},
   "source": [
    "### (4c) Exercise: Number of Unique Daily Hosts\n",
    "For an advanced exercise, let's determine the number of unique hosts in the entire log on a day-by-day basis. This computation will give us counts of the number of unique daily hosts. We'd like a DataFrame sorted by increasing day of the month which includes the day of the month and the associated number of unique hosts for that day. Make sure you cache the resulting DataFrame `daily_hosts_df` so that we can reuse it in the next exercise.\n",
    "\n",
    "Think about the steps that you need to perform to count the number of different hosts that make requests each day. _Since the log only covers a single month, you can ignore the month._ You may want to use the `dayofmonth` function in the `pyspark.sql.functions` module.\n",
    "\n",
    "**Description of each variable**\n",
    "\n",
    "    day_to_host_pair_df\n",
    "    \n",
    "A DataFrame with two columns\n",
    "\n",
    "column | explanation\n",
    ":---|:---\n",
    "host\t|the host name\n",
    "day\t|the day of the month\n",
    "\n",
    "There will be one row in this DataFrame for each row in `logs_df`. Essentially, you're just trimming and transforming each row of `logs_df`. For example, for this row in `logs_df`:\n",
    "\n",
    "    gw1.att.com - - [23/Aug/1995:00:03:53 -0400] \"GET /shuttle/missions/sts-73/news HTTP/1.0\" 302 -\n",
    "\n",
    "your `day_to_host_pair_df` should have:\n",
    "\n",
    "    gw1.att.com 23\n",
    "\n",
    "#### something wrong\n",
    "\n",
    "    day_group_hosts_df\n",
    "\n",
    "This DataFrame has the same columns as `day_to_host_pair_df`, but with duplicate (`day`, `host`) rows removed.\n",
    "\n",
    "    daily_hosts_df\n",
    "    \n",
    "A DataFrame with two columns:\n",
    "\n",
    "column | explanation\n",
    ":---|:---\n",
    "day |\tthe day of the month\n",
    "count |\tthe number of unique requesting hosts for that day"
   ]
  },
  {
   "cell_type": "code",
   "execution_count": null,
   "metadata": {
    "collapsed": true
   },
   "outputs": [],
   "source": [
    "from pyspark.sql.functions import dayofmonth\n",
    "day_to_host_pair_df = (logs_df\n",
    "                       .select(col('host'), dayofmonth(col('time'))\n",
    "                       .alias('day')))\n",
    "day_group_hosts_df = day_to_host_pair_df.distinct()\n",
    "daily_hosts_df = (day_group_hosts_df\n",
    "                  .groupBy(col('day'))\n",
    "                  .count()\n",
    "                  .orderBy('day')\n",
    "                 )\n",
    "print('Unique hosts per day:')\n",
    "daily_hosts_df.show(truncate=False, n=30)"
   ]
  },
  {
   "cell_type": "markdown",
   "metadata": {},
   "source": [
    "### (4d) Exercise: Visualizing the Number of Unique Daily Hosts\n",
    "Using the results from the previous exercise, we will use `matplotlib` to plot a line graph of the unique hosts requests by day. We need a list of days called `days_with_hosts` and a list of the number of unique hosts for each corresponding day called `hosts`.\n",
    "\n",
    "**WARNING**: Simply calling `collect()` on your transformed DataFrame won't work, because `collect()` returns a list of Spark SQL `Row` objects. You must _extract_ the appropriate column values from the `Row` objects. Hint: A loop will help."
   ]
  },
  {
   "cell_type": "code",
   "execution_count": null,
   "metadata": {
    "collapsed": true
   },
   "outputs": [],
   "source": [
    "rows = daily_hosts_df.collect()\n",
    "days_with_hosts = daily_hosts_df.rdd.map(lambda r: r[0]).collect()\n",
    "hosts = daily_hosts_df.rdd.map(lambda r:r[1]).collect()\n",
    "print(days_with_hosts)\n",
    "print(hosts)"
   ]
  },
  {
   "cell_type": "code",
   "execution_count": null,
   "metadata": {
    "collapsed": true
   },
   "outputs": [],
   "source": [
    "max_host = max(hosts)\n",
    "max_day = max(days_with_hosts)\n",
    "\n",
    "fig, ax = prepareSubplot(np.arange(0, 30, 5), np.arange(0, 5000, 1000))\n",
    "colorMap = 'Dark2'\n",
    "cmap = cm.get_cmap(colorMap)\n",
    "plt.plot(days_with_hosts, hosts, color=cmap(0), linewidth=3)\n",
    "plt.axis([0, max_day, 0, max_host+500])\n",
    "plt.xlabel('Day')\n",
    "plt.ylabel('Hosts')\n",
    "plt.axhline(linewidth=3, color='#999999')\n",
    "plt.axvline(linewidth=2, color='#999999')\n",
    "fig.show()"
   ]
  },
  {
   "cell_type": "markdown",
   "metadata": {},
   "source": [
    "### (4e) Exercise: Average Number of Daily Requests per Host\n",
    "Next, let's determine the average number of requests on a day-by-day basis. We'd like a list by increasing day of the month and the associated average number of requests per host for that day. Make sure you cache the resulting DataFrame `avg_daily_req_per_host_df` so that we can reuse it in the next exercise.\n",
    "\n",
    "To compute the average number of requests per host, find the total number of requests per day (across all hosts) and divide that by the number of unique hosts per day (which we found in part 4c and cached as `daily_hosts_df`).\n",
    "\n",
    "_Since the log only covers a single month, you can skip checking for the month._"
   ]
  },
  {
   "cell_type": "code",
   "execution_count": null,
   "metadata": {
    "collapsed": true,
    "scrolled": true
   },
   "outputs": [],
   "source": [
    "total_req_per_day_df = (logs_df\n",
    "                        .groupBy(dayofmonth(col('time')).alias('day'))\n",
    "                        .count())\n",
    "avg_daily_req_per_host_df = (total_req_per_day_df\n",
    "                             .join(daily_hosts_df, daily_hosts_df['day']==total_req_per_day_df['day'],'outer')\n",
    "                             .select(daily_hosts_df['day'],(total_req_per_day_df['count']/daily_hosts_df['count']).alias('avg_reqs_per_host_per_day')))\n",
    "print('Average number of daily requests per Hosts is :')\n",
    "avg_daily_req_per_host_df.sort('day').show(n=30)"
   ]
  },
  {
   "cell_type": "markdown",
   "metadata": {},
   "source": [
    "### (4f) Exercise: Visualizing the Average Daily Requests per Unique Host\n",
    "Using the `result avg_daily_req_per_host_df` from the previous exercise, use matplotlib to plot a line graph of the average daily requests per unique host by day.\n",
    "\n",
    "`days_with_avg` should be a list of days and `avgs` should be a list of average daily requests (as integers) per unique hosts for each corresponding day. Hint: You will need to extract these from the Dataframe in a similar way to part 4d."
   ]
  },
  {
   "cell_type": "code",
   "execution_count": null,
   "metadata": {
    "collapsed": true
   },
   "outputs": [],
   "source": [
    "days_with_avg = avg_daily_req_per_host_df.orderBy('day').rdd.map(lambda r:r[0]).collect()\n",
    "avgs = avg_daily_req_per_host_df.orderBy('day').rdd.map(lambda r:r[1]).collect()\n",
    "print(days_with_avg)\n",
    "print(avgs)"
   ]
  },
  {
   "cell_type": "code",
   "execution_count": null,
   "metadata": {
    "collapsed": true
   },
   "outputs": [],
   "source": [
    "fig, ax = prepareSubplot(np.arange(0, 20, 5), np.arange(0, 16, 2))\n",
    "colorMap = 'Set3'\n",
    "cmap = cm.get_cmap(colorMap)\n",
    "plt.plot(days_with_avg, avgs, color=cmap(0), linewidth=3)\n",
    "plt.axis([0, max(days_with_avg), 0, max(avgs)+2])\n",
    "plt.xlabel('Day')\n",
    "plt.ylabel('Average')\n",
    "plt.axhline(linewidth=3, color='#999999')\n",
    "plt.axvline(linewidth=2, color='#999999')\n",
    "fig.show()"
   ]
  },
  {
   "cell_type": "markdown",
   "metadata": {},
   "source": [
    "## Part 5: Exploring 404 Status Codes\n",
    "Let's drill down and explore the error 404 status records. We've all seen those \"404 Not Found\" web pages. 404 errors are returned when the server cannot find the resource (page or object) the browser or client requested."
   ]
  },
  {
   "cell_type": "markdown",
   "metadata": {},
   "source": [
    "### (5a) Exercise: Counting 404 Response Codes\n",
    "Create a DataFrame containing only log records with a 404 status code. Make sure you `cache()` `not_found_df` as we will use it in the rest of this exercise.\n",
    "\n",
    "How many 404 records are in the log?"
   ]
  },
  {
   "cell_type": "code",
   "execution_count": null,
   "metadata": {
    "collapsed": true,
    "scrolled": true
   },
   "outputs": [],
   "source": [
    "not_found_df = logs_df.filter(col('status')==404).cache()\n",
    "print('Found {0} 404 URLs'.format(not_found_df.count()))"
   ]
  },
  {
   "cell_type": "markdown",
   "metadata": {},
   "source": [
    "### (5b) Exercise: Listing 404 Status Code Records\n",
    "Using the DataFrame containing only log records with a 404 status code that you cached in part (5a), print out a list up to 40 _distinct_ paths that generate 404 errors.\n",
    "\n",
    "**No path should appear more than once in your list.**"
   ]
  },
  {
   "cell_type": "code",
   "execution_count": null,
   "metadata": {
    "collapsed": true
   },
   "outputs": [],
   "source": [
    "not_found_paths_df = not_found_df.select('path')\n",
    "unique_not_found_paths_df  = not_found_paths_df.distinct()\n",
    "print('404 URLs: ')\n",
    "unique_not_found_paths_df.show(truncate=False, n=40)"
   ]
  },
  {
   "cell_type": "markdown",
   "metadata": {},
   "source": [
    "### (5c) Exercise: Listing the Top Twenty 404 Response Code paths\n",
    "Using the DataFrame containing only log records with a 404 response code that you cached in part (5a), print out a list of the top twenty paths that generate the most 404 errors.\n",
    "\n",
    "_Remember, top endpoints should be in sorted order_"
   ]
  },
  {
   "cell_type": "code",
   "execution_count": null,
   "metadata": {
    "collapsed": true
   },
   "outputs": [],
   "source": [
    "top_20_not_found_df = (not_found_paths_df\n",
    "                       .groupBy('path')\n",
    "                       .count()\n",
    "                       .orderBy(col('count').desc()))\n",
    "print('Top 20 404 URLs:')\n",
    "top_20_not_found_df.show(n=20, truncate=False)"
   ]
  },
  {
   "cell_type": "markdown",
   "metadata": {},
   "source": [
    "### (5d) Exercise: Listing the Top Twenty-five 404 Response Code Hosts\n",
    "Instead of looking at the paths that generated 404 errors, let's look at the hosts that encountered 404 errors. Using the DataFrame containing only log records with a 404 status codes that you cached in part (5a), print out a list of the top twenty-five hosts that generate the most 404 errors."
   ]
  },
  {
   "cell_type": "code",
   "execution_count": null,
   "metadata": {
    "collapsed": true
   },
   "outputs": [],
   "source": [
    "hosts_404_count_df = (not_found_df\n",
    "                      .groupBy('host')\n",
    "                      .count()\n",
    "                      .orderBy(col('count').desc()))\n",
    "print('Top 25 hosts that generated errors')\n",
    "hosts_404_count_df.show(n=25, truncate=False)"
   ]
  },
  {
   "cell_type": "markdown",
   "metadata": {},
   "source": [
    "### (5e) Exercise: Listing 404 Errors per Day\n",
    "Let's explore the 404 records temporally. Break down the 404 requests by day (cache the errors_by_date_sorted_df DataFrame) and get the daily counts sorted by day in `errors_by_date_sorted_df`.\n",
    "\n",
    "_Since the log only covers a single month, you can ignore the month in your checks._"
   ]
  },
  {
   "cell_type": "code",
   "execution_count": null,
   "metadata": {
    "collapsed": true
   },
   "outputs": [],
   "source": [
    "errors_by_date_sorted_df = (not_found_df\n",
    "                            .groupBy(dayofmonth('time').alias('day'))\n",
    "                            .count()\n",
    "                            .orderBy('day')\n",
    "                            .cache())\n",
    "print('404 errors by day:')\n",
    "errors_by_date_sorted_df.show(n=30)"
   ]
  },
  {
   "cell_type": "markdown",
   "metadata": {},
   "source": [
    "### (5f) Exercise: Visualizing the 404 Errors by Day\n",
    "Using the results from the previous exercise, use `matplotlib` to plot a line or bar graph of the 404 response codes by day.\n",
    "\n",
    "**Hint**: You'll need to use the same technique you used in (4f)."
   ]
  },
  {
   "cell_type": "code",
   "execution_count": null,
   "metadata": {
    "collapsed": true
   },
   "outputs": [],
   "source": [
    "days_with_errors_404 = errors_by_date_sorted_df.rdd.map(lambda r:r[0]).collect()\n",
    "errors_404_by_day = errors_by_date_sorted_df.rdd.map(lambda r:r[1]).collect()\n",
    "print(days_with_errors_404)\n",
    "print(errors_404_by_day)"
   ]
  },
  {
   "cell_type": "code",
   "execution_count": null,
   "metadata": {
    "collapsed": true
   },
   "outputs": [],
   "source": [
    "fig, ax = prepareSubplot(np.arange(0, 20, 5), np.arange(0, 600, 100))\n",
    "colorMap = 'rainbow'\n",
    "cmap = cm.get_cmap(colorMap)\n",
    "plt.plot(days_with_errors_404, errors_404_by_day, color=cmap(0), linewidth=3)\n",
    "plt.axis([0, max(days_with_errors_404), 0, max(errors_404_by_day)])\n",
    "plt.xlabel('Day')\n",
    "plt.ylabel('404 Errors')\n",
    "plt.axhline(linewidth=3, color='#999999')\n",
    "plt.axvline(linewidth=2, color='#999999')\n",
    "fig.show()"
   ]
  },
  {
   "cell_type": "markdown",
   "metadata": {},
   "source": [
    "### (5g) Exercise: Top Five Days for 404 Errors\n",
    "Using the DataFrame `errors_by_date_sorted_df` you cached in the part (5e), what are the top five days for 404 errors and the corresponding counts of 404 errors?"
   ]
  },
  {
   "cell_type": "code",
   "execution_count": null,
   "metadata": {
    "collapsed": true
   },
   "outputs": [],
   "source": [
    "top_err_date_df = errors_by_date_sorted_df.orderBy(col('count').desc())\n",
    "print('Top five dates for 404 requests')\n",
    "top_err_date_df.show(5)"
   ]
  },
  {
   "cell_type": "markdown",
   "metadata": {},
   "source": [
    "### (5h) Exercise: Hourly 404 Errors\n",
    "Using the DataFrame `not_found_df` you cached in the part (5a) and sorting by hour of the day in increasing order, create a DataFrame containing the number of requests that had a 404 return code for each hour of the day (midnight starts at 0). Cache the resulting DataFrame `hour_records_sorted_df` and print that as a list."
   ]
  },
  {
   "cell_type": "code",
   "execution_count": null,
   "metadata": {
    "collapsed": true
   },
   "outputs": [],
   "source": [
    "from pyspark.sql.functions import hour\n",
    "hour_records_sorted_df = (not_found_df\n",
    "                          .groupBy(hour(col('time')).alias('hour'))\n",
    "                          .count()\n",
    "                          .orderBy('hour'))\n",
    "print('Top hours for 404 requests')\n",
    "hour_records_sorted_df.show(24)"
   ]
  },
  {
   "cell_type": "markdown",
   "metadata": {},
   "source": [
    "### (5i) Exercise: Visualizing the 404 Response Codes by Hour\n",
    "Using the results from the previous exercise, use `matplotlib` to plot a line or bar graph of the 404 response codes by hour."
   ]
  },
  {
   "cell_type": "code",
   "execution_count": null,
   "metadata": {
    "collapsed": true
   },
   "outputs": [],
   "source": [
    "hours_with_not_found = hour_records_sorted_df.rdd.map(lambda r:r[0]).collect()\n",
    "not_found_counts_per_hour = hour_records_sorted_df.rdd.map(lambda r:r[1]).collect()\n",
    "print(hours_with_not_found)\n",
    "print(not_found_counts_per_hour)"
   ]
  },
  {
   "cell_type": "code",
   "execution_count": null,
   "metadata": {
    "collapsed": true
   },
   "outputs": [],
   "source": [
    "fig, ax = prepareSubplot(np.arange(0, 25, 5), np.arange(0, 500, 50))\n",
    "colorMap = 'seismic'\n",
    "cmap = cm.get_cmap(colorMap)\n",
    "plt.plot(hours_with_not_found, not_found_counts_per_hour, color=cmap(0), linewidth=3)\n",
    "plt.axis([0, max(hours_with_not_found), 0, max(not_found_counts_per_hour)])\n",
    "plt.xlabel('Hour')\n",
    "plt.ylabel('404 Errors')\n",
    "plt.axhline(linewidth=3, color='#999999')\n",
    "plt.axvline(linewidth=2, color='#999999')\n",
    "fig.show()"
   ]
  },
  {
   "cell_type": "code",
   "execution_count": null,
   "metadata": {
    "collapsed": true
   },
   "outputs": [],
   "source": []
  }
 ],
 "metadata": {
  "kernelspec": {
   "display_name": "Python 2",
   "language": "python",
   "name": "python2"
  },
  "language_info": {
   "codemirror_mode": {
    "name": "ipython",
    "version": 2
   },
   "file_extension": ".py",
   "mimetype": "text/x-python",
   "name": "python",
   "nbconvert_exporter": "python",
   "pygments_lexer": "ipython2",
   "version": "2.7.13"
  }
 },
 "nbformat": 4,
 "nbformat_minor": 2
}
